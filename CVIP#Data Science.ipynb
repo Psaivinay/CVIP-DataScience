{
 "cells": [
  {
   "cell_type": "code",
   "execution_count": 94,
   "id": "colored-minnesota",
   "metadata": {
    "execution": {
     "iopub.execute_input": "2022-07-29T17:52:06.272791Z",
     "iopub.status.busy": "2022-07-29T17:52:06.270925Z",
     "iopub.status.idle": "2022-07-29T17:52:07.329933Z",
     "shell.execute_reply": "2022-07-29T17:52:07.329181Z",
     "shell.execute_reply.started": "2021-12-01T09:24:54.547545Z"
    },
    "id": "e-4W3zKXodlU",
    "papermill": {
     "duration": 1.126662,
     "end_time": "2022-07-29T17:52:07.330121",
     "exception": false,
     "start_time": "2022-07-29T17:52:06.203459",
     "status": "completed"
    },
    "tags": []
   },
   "outputs": [],
   "source": [
    "# Importing libraries\n",
    "import pandas as pd \n",
    "import numpy as np \n",
    "import seaborn as sns \n",
    "import matplotlib.pyplot as plt\n",
    "from sklearn.preprocessing import StandardScaler\n",
    "from sklearn.model_selection import train_test_split, GridSearchCV\n",
    "from sklearn.metrics import accuracy_score, confusion_matrix\n",
    "\n",
    "import warnings\n",
    "warnings.filterwarnings('ignore')\n",
    "\n",
    "\n",
    "\n",
    "\n"
   ]
  },
  {
   "cell_type": "code",
   "execution_count": 95,
   "id": "equivalent-assistant",
   "metadata": {
    "execution": {
     "iopub.execute_input": "2022-07-29T17:52:07.446485Z",
     "iopub.status.busy": "2022-07-29T17:52:07.445484Z",
     "iopub.status.idle": "2022-07-29T17:52:07.505643Z",
     "shell.execute_reply": "2022-07-29T17:52:07.506111Z",
     "shell.execute_reply.started": "2021-12-01T09:24:55.559823Z"
    },
    "id": "4yW_07wkp4_X",
    "outputId": "9d27a141-8fbc-4f28-fac1-397b5011a24e",
    "papermill": {
     "duration": 0.119066,
     "end_time": "2022-07-29T17:52:07.506293",
     "exception": false,
     "start_time": "2022-07-29T17:52:07.387227",
     "status": "completed"
    },
    "tags": []
   },
   "outputs": [
    {
     "data": {
      "text/html": [
       "<div>\n",
       "<style scoped>\n",
       "    .dataframe tbody tr th:only-of-type {\n",
       "        vertical-align: middle;\n",
       "    }\n",
       "\n",
       "    .dataframe tbody tr th {\n",
       "        vertical-align: top;\n",
       "    }\n",
       "\n",
       "    .dataframe thead th {\n",
       "        text-align: right;\n",
       "    }\n",
       "</style>\n",
       "<table border=\"1\" class=\"dataframe\">\n",
       "  <thead>\n",
       "    <tr style=\"text-align: right;\">\n",
       "      <th></th>\n",
       "      <th>id</th>\n",
       "      <th>battery_power</th>\n",
       "      <th>blue</th>\n",
       "      <th>clock_speed</th>\n",
       "      <th>dual_sim</th>\n",
       "      <th>fc</th>\n",
       "      <th>four_g</th>\n",
       "      <th>int_memory</th>\n",
       "      <th>m_dep</th>\n",
       "      <th>mobile_wt</th>\n",
       "      <th>...</th>\n",
       "      <th>pc</th>\n",
       "      <th>px_height</th>\n",
       "      <th>px_width</th>\n",
       "      <th>ram</th>\n",
       "      <th>sc_h</th>\n",
       "      <th>sc_w</th>\n",
       "      <th>talk_time</th>\n",
       "      <th>three_g</th>\n",
       "      <th>touch_screen</th>\n",
       "      <th>wifi</th>\n",
       "    </tr>\n",
       "  </thead>\n",
       "  <tbody>\n",
       "    <tr>\n",
       "      <th>0</th>\n",
       "      <td>1</td>\n",
       "      <td>1043</td>\n",
       "      <td>1</td>\n",
       "      <td>1.8</td>\n",
       "      <td>1</td>\n",
       "      <td>14</td>\n",
       "      <td>0</td>\n",
       "      <td>5</td>\n",
       "      <td>0.1</td>\n",
       "      <td>193</td>\n",
       "      <td>...</td>\n",
       "      <td>16</td>\n",
       "      <td>226</td>\n",
       "      <td>1412</td>\n",
       "      <td>3476</td>\n",
       "      <td>12</td>\n",
       "      <td>7</td>\n",
       "      <td>2</td>\n",
       "      <td>0</td>\n",
       "      <td>1</td>\n",
       "      <td>0</td>\n",
       "    </tr>\n",
       "    <tr>\n",
       "      <th>1</th>\n",
       "      <td>2</td>\n",
       "      <td>841</td>\n",
       "      <td>1</td>\n",
       "      <td>0.5</td>\n",
       "      <td>1</td>\n",
       "      <td>4</td>\n",
       "      <td>1</td>\n",
       "      <td>61</td>\n",
       "      <td>0.8</td>\n",
       "      <td>191</td>\n",
       "      <td>...</td>\n",
       "      <td>12</td>\n",
       "      <td>746</td>\n",
       "      <td>857</td>\n",
       "      <td>3895</td>\n",
       "      <td>6</td>\n",
       "      <td>0</td>\n",
       "      <td>7</td>\n",
       "      <td>1</td>\n",
       "      <td>0</td>\n",
       "      <td>0</td>\n",
       "    </tr>\n",
       "    <tr>\n",
       "      <th>2</th>\n",
       "      <td>3</td>\n",
       "      <td>1807</td>\n",
       "      <td>1</td>\n",
       "      <td>2.8</td>\n",
       "      <td>0</td>\n",
       "      <td>1</td>\n",
       "      <td>0</td>\n",
       "      <td>27</td>\n",
       "      <td>0.9</td>\n",
       "      <td>186</td>\n",
       "      <td>...</td>\n",
       "      <td>4</td>\n",
       "      <td>1270</td>\n",
       "      <td>1366</td>\n",
       "      <td>2396</td>\n",
       "      <td>17</td>\n",
       "      <td>10</td>\n",
       "      <td>10</td>\n",
       "      <td>0</td>\n",
       "      <td>1</td>\n",
       "      <td>1</td>\n",
       "    </tr>\n",
       "    <tr>\n",
       "      <th>3</th>\n",
       "      <td>4</td>\n",
       "      <td>1546</td>\n",
       "      <td>0</td>\n",
       "      <td>0.5</td>\n",
       "      <td>1</td>\n",
       "      <td>18</td>\n",
       "      <td>1</td>\n",
       "      <td>25</td>\n",
       "      <td>0.5</td>\n",
       "      <td>96</td>\n",
       "      <td>...</td>\n",
       "      <td>20</td>\n",
       "      <td>295</td>\n",
       "      <td>1752</td>\n",
       "      <td>3893</td>\n",
       "      <td>10</td>\n",
       "      <td>0</td>\n",
       "      <td>7</td>\n",
       "      <td>1</td>\n",
       "      <td>1</td>\n",
       "      <td>0</td>\n",
       "    </tr>\n",
       "    <tr>\n",
       "      <th>4</th>\n",
       "      <td>5</td>\n",
       "      <td>1434</td>\n",
       "      <td>0</td>\n",
       "      <td>1.4</td>\n",
       "      <td>0</td>\n",
       "      <td>11</td>\n",
       "      <td>1</td>\n",
       "      <td>49</td>\n",
       "      <td>0.5</td>\n",
       "      <td>108</td>\n",
       "      <td>...</td>\n",
       "      <td>18</td>\n",
       "      <td>749</td>\n",
       "      <td>810</td>\n",
       "      <td>1773</td>\n",
       "      <td>15</td>\n",
       "      <td>8</td>\n",
       "      <td>7</td>\n",
       "      <td>1</td>\n",
       "      <td>0</td>\n",
       "      <td>1</td>\n",
       "    </tr>\n",
       "  </tbody>\n",
       "</table>\n",
       "<p>5 rows × 21 columns</p>\n",
       "</div>"
      ],
      "text/plain": [
       "   id  battery_power  blue  clock_speed  dual_sim  fc  four_g  int_memory  \\\n",
       "0   1           1043     1          1.8         1  14       0           5   \n",
       "1   2            841     1          0.5         1   4       1          61   \n",
       "2   3           1807     1          2.8         0   1       0          27   \n",
       "3   4           1546     0          0.5         1  18       1          25   \n",
       "4   5           1434     0          1.4         0  11       1          49   \n",
       "\n",
       "   m_dep  mobile_wt  ...  pc  px_height  px_width   ram  sc_h  sc_w  \\\n",
       "0    0.1        193  ...  16        226      1412  3476    12     7   \n",
       "1    0.8        191  ...  12        746       857  3895     6     0   \n",
       "2    0.9        186  ...   4       1270      1366  2396    17    10   \n",
       "3    0.5         96  ...  20        295      1752  3893    10     0   \n",
       "4    0.5        108  ...  18        749       810  1773    15     8   \n",
       "\n",
       "   talk_time  three_g  touch_screen  wifi  \n",
       "0          2        0             1     0  \n",
       "1          7        1             0     0  \n",
       "2         10        0             1     1  \n",
       "3          7        1             1     0  \n",
       "4          7        1             0     1  \n",
       "\n",
       "[5 rows x 21 columns]"
      ]
     },
     "execution_count": 95,
     "metadata": {},
     "output_type": "execute_result"
    }
   ],
   "source": [
    "csv_path = r'C:\\Users\\vinay punnamaraju pc\\Dropbox\\PC\\Downloads\\test.csv'\n",
    "df = pd.read_csv(csv_path)\n",
    "df.head()"
   ]
  },
  {
   "cell_type": "code",
   "execution_count": 96,
   "id": "binding-finish",
   "metadata": {
    "execution": {
     "iopub.execute_input": "2022-07-29T17:52:07.623915Z",
     "iopub.status.busy": "2022-07-29T17:52:07.622996Z",
     "iopub.status.idle": "2022-07-29T17:52:07.628670Z",
     "shell.execute_reply": "2022-07-29T17:52:07.629265Z",
     "shell.execute_reply.started": "2021-12-01T09:24:55.626789Z"
    },
    "id": "jyqEfS0ctYm6",
    "outputId": "71d31851-f96f-45a4-a14d-dd6ec9b7b85a",
    "papermill": {
     "duration": 0.066795,
     "end_time": "2022-07-29T17:52:07.629436",
     "exception": false,
     "start_time": "2022-07-29T17:52:07.562641",
     "status": "completed"
    },
    "tags": []
   },
   "outputs": [
    {
     "data": {
      "text/plain": [
       "(1000, 21)"
      ]
     },
     "execution_count": 96,
     "metadata": {},
     "output_type": "execute_result"
    }
   ],
   "source": [
    "df.shape"
   ]
  },
  {
   "cell_type": "code",
   "execution_count": 97,
   "id": "loved-punishment",
   "metadata": {
    "execution": {
     "iopub.execute_input": "2022-07-29T17:52:07.744175Z",
     "iopub.status.busy": "2022-07-29T17:52:07.743208Z",
     "iopub.status.idle": "2022-07-29T17:52:07.750864Z",
     "shell.execute_reply": "2022-07-29T17:52:07.751497Z",
     "shell.execute_reply.started": "2021-12-01T09:24:55.636447Z"
    },
    "id": "2Xz3VQvUteSf",
    "outputId": "ea37a09b-8f0e-4b45-b5fc-c2266f21df86",
    "papermill": {
     "duration": 0.066795,
     "end_time": "2022-07-29T17:52:07.751701",
     "exception": false,
     "start_time": "2022-07-29T17:52:07.684906",
     "status": "completed"
    },
    "tags": []
   },
   "outputs": [
    {
     "data": {
      "text/plain": [
       "id                 int64\n",
       "battery_power      int64\n",
       "blue               int64\n",
       "clock_speed      float64\n",
       "dual_sim           int64\n",
       "fc                 int64\n",
       "four_g             int64\n",
       "int_memory         int64\n",
       "m_dep            float64\n",
       "mobile_wt          int64\n",
       "n_cores            int64\n",
       "pc                 int64\n",
       "px_height          int64\n",
       "px_width           int64\n",
       "ram                int64\n",
       "sc_h               int64\n",
       "sc_w               int64\n",
       "talk_time          int64\n",
       "three_g            int64\n",
       "touch_screen       int64\n",
       "wifi               int64\n",
       "dtype: object"
      ]
     },
     "execution_count": 97,
     "metadata": {},
     "output_type": "execute_result"
    }
   ],
   "source": [
    "df.dtypes"
   ]
  },
  {
   "cell_type": "code",
   "execution_count": 98,
   "id": "split-calcium",
   "metadata": {
    "execution": {
     "iopub.execute_input": "2022-07-29T17:52:07.886259Z",
     "iopub.status.busy": "2022-07-29T17:52:07.885365Z",
     "iopub.status.idle": "2022-07-29T17:52:07.888897Z",
     "shell.execute_reply": "2022-07-29T17:52:07.889685Z",
     "shell.execute_reply.started": "2021-12-01T09:24:55.654306Z"
    },
    "id": "XQ0V4ymatpuJ",
    "outputId": "c74b35d3-e3a8-41ea-b865-dd32975abd17",
    "papermill": {
     "duration": 0.082272,
     "end_time": "2022-07-29T17:52:07.889928",
     "exception": false,
     "start_time": "2022-07-29T17:52:07.807656",
     "status": "completed"
    },
    "tags": []
   },
   "outputs": [
    {
     "name": "stdout",
     "output_type": "stream",
     "text": [
      "<class 'pandas.core.frame.DataFrame'>\n",
      "RangeIndex: 1000 entries, 0 to 999\n",
      "Data columns (total 21 columns):\n",
      " #   Column         Non-Null Count  Dtype  \n",
      "---  ------         --------------  -----  \n",
      " 0   id             1000 non-null   int64  \n",
      " 1   battery_power  1000 non-null   int64  \n",
      " 2   blue           1000 non-null   int64  \n",
      " 3   clock_speed    1000 non-null   float64\n",
      " 4   dual_sim       1000 non-null   int64  \n",
      " 5   fc             1000 non-null   int64  \n",
      " 6   four_g         1000 non-null   int64  \n",
      " 7   int_memory     1000 non-null   int64  \n",
      " 8   m_dep          1000 non-null   float64\n",
      " 9   mobile_wt      1000 non-null   int64  \n",
      " 10  n_cores        1000 non-null   int64  \n",
      " 11  pc             1000 non-null   int64  \n",
      " 12  px_height      1000 non-null   int64  \n",
      " 13  px_width       1000 non-null   int64  \n",
      " 14  ram            1000 non-null   int64  \n",
      " 15  sc_h           1000 non-null   int64  \n",
      " 16  sc_w           1000 non-null   int64  \n",
      " 17  talk_time      1000 non-null   int64  \n",
      " 18  three_g        1000 non-null   int64  \n",
      " 19  touch_screen   1000 non-null   int64  \n",
      " 20  wifi           1000 non-null   int64  \n",
      "dtypes: float64(2), int64(19)\n",
      "memory usage: 164.2 KB\n"
     ]
    }
   ],
   "source": [
    "df.info()"
   ]
  },
  {
   "cell_type": "code",
   "execution_count": 99,
   "id": "competitive-spirituality",
   "metadata": {
    "execution": {
     "iopub.execute_input": "2022-07-29T17:52:08.009852Z",
     "iopub.status.busy": "2022-07-29T17:52:08.008840Z",
     "iopub.status.idle": "2022-07-29T17:52:08.088700Z",
     "shell.execute_reply": "2022-07-29T17:52:08.088018Z",
     "shell.execute_reply.started": "2021-12-01T09:24:55.681982Z"
    },
    "id": "bA-5jOhlttG6",
    "outputId": "1ef5cf83-39e0-4cd0-a3b8-bfb5348ec584",
    "papermill": {
     "duration": 0.139225,
     "end_time": "2022-07-29T17:52:08.088841",
     "exception": false,
     "start_time": "2022-07-29T17:52:07.949616",
     "status": "completed"
    },
    "tags": []
   },
   "outputs": [
    {
     "data": {
      "text/html": [
       "<div>\n",
       "<style scoped>\n",
       "    .dataframe tbody tr th:only-of-type {\n",
       "        vertical-align: middle;\n",
       "    }\n",
       "\n",
       "    .dataframe tbody tr th {\n",
       "        vertical-align: top;\n",
       "    }\n",
       "\n",
       "    .dataframe thead th {\n",
       "        text-align: right;\n",
       "    }\n",
       "</style>\n",
       "<table border=\"1\" class=\"dataframe\">\n",
       "  <thead>\n",
       "    <tr style=\"text-align: right;\">\n",
       "      <th></th>\n",
       "      <th>id</th>\n",
       "      <th>battery_power</th>\n",
       "      <th>blue</th>\n",
       "      <th>clock_speed</th>\n",
       "      <th>dual_sim</th>\n",
       "      <th>fc</th>\n",
       "      <th>four_g</th>\n",
       "      <th>int_memory</th>\n",
       "      <th>m_dep</th>\n",
       "      <th>mobile_wt</th>\n",
       "      <th>...</th>\n",
       "      <th>pc</th>\n",
       "      <th>px_height</th>\n",
       "      <th>px_width</th>\n",
       "      <th>ram</th>\n",
       "      <th>sc_h</th>\n",
       "      <th>sc_w</th>\n",
       "      <th>talk_time</th>\n",
       "      <th>three_g</th>\n",
       "      <th>touch_screen</th>\n",
       "      <th>wifi</th>\n",
       "    </tr>\n",
       "  </thead>\n",
       "  <tbody>\n",
       "    <tr>\n",
       "      <th>count</th>\n",
       "      <td>1000.000000</td>\n",
       "      <td>1000.000000</td>\n",
       "      <td>1000.000000</td>\n",
       "      <td>1000.000000</td>\n",
       "      <td>1000.000000</td>\n",
       "      <td>1000.000000</td>\n",
       "      <td>1000.000000</td>\n",
       "      <td>1000.000000</td>\n",
       "      <td>1000.000000</td>\n",
       "      <td>1000.00000</td>\n",
       "      <td>...</td>\n",
       "      <td>1000.000000</td>\n",
       "      <td>1000.000000</td>\n",
       "      <td>1000.000000</td>\n",
       "      <td>1000.000000</td>\n",
       "      <td>1000.000000</td>\n",
       "      <td>1000.000000</td>\n",
       "      <td>1000.000000</td>\n",
       "      <td>1000.000000</td>\n",
       "      <td>1000.00000</td>\n",
       "      <td>1000.000000</td>\n",
       "    </tr>\n",
       "    <tr>\n",
       "      <th>mean</th>\n",
       "      <td>500.500000</td>\n",
       "      <td>1248.510000</td>\n",
       "      <td>0.516000</td>\n",
       "      <td>1.540900</td>\n",
       "      <td>0.517000</td>\n",
       "      <td>4.593000</td>\n",
       "      <td>0.487000</td>\n",
       "      <td>33.652000</td>\n",
       "      <td>0.517500</td>\n",
       "      <td>139.51100</td>\n",
       "      <td>...</td>\n",
       "      <td>10.054000</td>\n",
       "      <td>627.121000</td>\n",
       "      <td>1239.774000</td>\n",
       "      <td>2138.998000</td>\n",
       "      <td>11.995000</td>\n",
       "      <td>5.316000</td>\n",
       "      <td>11.085000</td>\n",
       "      <td>0.756000</td>\n",
       "      <td>0.50000</td>\n",
       "      <td>0.507000</td>\n",
       "    </tr>\n",
       "    <tr>\n",
       "      <th>std</th>\n",
       "      <td>288.819436</td>\n",
       "      <td>432.458227</td>\n",
       "      <td>0.499994</td>\n",
       "      <td>0.829268</td>\n",
       "      <td>0.499961</td>\n",
       "      <td>4.463325</td>\n",
       "      <td>0.500081</td>\n",
       "      <td>18.128694</td>\n",
       "      <td>0.280861</td>\n",
       "      <td>34.85155</td>\n",
       "      <td>...</td>\n",
       "      <td>6.095099</td>\n",
       "      <td>432.929699</td>\n",
       "      <td>439.670981</td>\n",
       "      <td>1088.092278</td>\n",
       "      <td>4.320607</td>\n",
       "      <td>4.240062</td>\n",
       "      <td>5.497636</td>\n",
       "      <td>0.429708</td>\n",
       "      <td>0.50025</td>\n",
       "      <td>0.500201</td>\n",
       "    </tr>\n",
       "    <tr>\n",
       "      <th>min</th>\n",
       "      <td>1.000000</td>\n",
       "      <td>500.000000</td>\n",
       "      <td>0.000000</td>\n",
       "      <td>0.500000</td>\n",
       "      <td>0.000000</td>\n",
       "      <td>0.000000</td>\n",
       "      <td>0.000000</td>\n",
       "      <td>2.000000</td>\n",
       "      <td>0.100000</td>\n",
       "      <td>80.00000</td>\n",
       "      <td>...</td>\n",
       "      <td>0.000000</td>\n",
       "      <td>0.000000</td>\n",
       "      <td>501.000000</td>\n",
       "      <td>263.000000</td>\n",
       "      <td>5.000000</td>\n",
       "      <td>0.000000</td>\n",
       "      <td>2.000000</td>\n",
       "      <td>0.000000</td>\n",
       "      <td>0.00000</td>\n",
       "      <td>0.000000</td>\n",
       "    </tr>\n",
       "    <tr>\n",
       "      <th>25%</th>\n",
       "      <td>250.750000</td>\n",
       "      <td>895.000000</td>\n",
       "      <td>0.000000</td>\n",
       "      <td>0.700000</td>\n",
       "      <td>0.000000</td>\n",
       "      <td>1.000000</td>\n",
       "      <td>0.000000</td>\n",
       "      <td>18.000000</td>\n",
       "      <td>0.300000</td>\n",
       "      <td>109.75000</td>\n",
       "      <td>...</td>\n",
       "      <td>5.000000</td>\n",
       "      <td>263.750000</td>\n",
       "      <td>831.750000</td>\n",
       "      <td>1237.250000</td>\n",
       "      <td>8.000000</td>\n",
       "      <td>2.000000</td>\n",
       "      <td>6.750000</td>\n",
       "      <td>1.000000</td>\n",
       "      <td>0.00000</td>\n",
       "      <td>0.000000</td>\n",
       "    </tr>\n",
       "    <tr>\n",
       "      <th>50%</th>\n",
       "      <td>500.500000</td>\n",
       "      <td>1246.500000</td>\n",
       "      <td>1.000000</td>\n",
       "      <td>1.500000</td>\n",
       "      <td>1.000000</td>\n",
       "      <td>3.000000</td>\n",
       "      <td>0.000000</td>\n",
       "      <td>34.500000</td>\n",
       "      <td>0.500000</td>\n",
       "      <td>139.00000</td>\n",
       "      <td>...</td>\n",
       "      <td>10.000000</td>\n",
       "      <td>564.500000</td>\n",
       "      <td>1250.000000</td>\n",
       "      <td>2153.500000</td>\n",
       "      <td>12.000000</td>\n",
       "      <td>5.000000</td>\n",
       "      <td>11.000000</td>\n",
       "      <td>1.000000</td>\n",
       "      <td>0.50000</td>\n",
       "      <td>1.000000</td>\n",
       "    </tr>\n",
       "    <tr>\n",
       "      <th>75%</th>\n",
       "      <td>750.250000</td>\n",
       "      <td>1629.250000</td>\n",
       "      <td>1.000000</td>\n",
       "      <td>2.300000</td>\n",
       "      <td>1.000000</td>\n",
       "      <td>7.000000</td>\n",
       "      <td>1.000000</td>\n",
       "      <td>49.000000</td>\n",
       "      <td>0.800000</td>\n",
       "      <td>170.00000</td>\n",
       "      <td>...</td>\n",
       "      <td>16.000000</td>\n",
       "      <td>903.000000</td>\n",
       "      <td>1637.750000</td>\n",
       "      <td>3065.500000</td>\n",
       "      <td>16.000000</td>\n",
       "      <td>8.000000</td>\n",
       "      <td>16.000000</td>\n",
       "      <td>1.000000</td>\n",
       "      <td>1.00000</td>\n",
       "      <td>1.000000</td>\n",
       "    </tr>\n",
       "    <tr>\n",
       "      <th>max</th>\n",
       "      <td>1000.000000</td>\n",
       "      <td>1999.000000</td>\n",
       "      <td>1.000000</td>\n",
       "      <td>3.000000</td>\n",
       "      <td>1.000000</td>\n",
       "      <td>19.000000</td>\n",
       "      <td>1.000000</td>\n",
       "      <td>64.000000</td>\n",
       "      <td>1.000000</td>\n",
       "      <td>200.00000</td>\n",
       "      <td>...</td>\n",
       "      <td>20.000000</td>\n",
       "      <td>1907.000000</td>\n",
       "      <td>1998.000000</td>\n",
       "      <td>3989.000000</td>\n",
       "      <td>19.000000</td>\n",
       "      <td>18.000000</td>\n",
       "      <td>20.000000</td>\n",
       "      <td>1.000000</td>\n",
       "      <td>1.00000</td>\n",
       "      <td>1.000000</td>\n",
       "    </tr>\n",
       "  </tbody>\n",
       "</table>\n",
       "<p>8 rows × 21 columns</p>\n",
       "</div>"
      ],
      "text/plain": [
       "                id  battery_power         blue  clock_speed     dual_sim  \\\n",
       "count  1000.000000    1000.000000  1000.000000  1000.000000  1000.000000   \n",
       "mean    500.500000    1248.510000     0.516000     1.540900     0.517000   \n",
       "std     288.819436     432.458227     0.499994     0.829268     0.499961   \n",
       "min       1.000000     500.000000     0.000000     0.500000     0.000000   \n",
       "25%     250.750000     895.000000     0.000000     0.700000     0.000000   \n",
       "50%     500.500000    1246.500000     1.000000     1.500000     1.000000   \n",
       "75%     750.250000    1629.250000     1.000000     2.300000     1.000000   \n",
       "max    1000.000000    1999.000000     1.000000     3.000000     1.000000   \n",
       "\n",
       "                fc       four_g   int_memory        m_dep   mobile_wt  ...  \\\n",
       "count  1000.000000  1000.000000  1000.000000  1000.000000  1000.00000  ...   \n",
       "mean      4.593000     0.487000    33.652000     0.517500   139.51100  ...   \n",
       "std       4.463325     0.500081    18.128694     0.280861    34.85155  ...   \n",
       "min       0.000000     0.000000     2.000000     0.100000    80.00000  ...   \n",
       "25%       1.000000     0.000000    18.000000     0.300000   109.75000  ...   \n",
       "50%       3.000000     0.000000    34.500000     0.500000   139.00000  ...   \n",
       "75%       7.000000     1.000000    49.000000     0.800000   170.00000  ...   \n",
       "max      19.000000     1.000000    64.000000     1.000000   200.00000  ...   \n",
       "\n",
       "                pc    px_height     px_width          ram         sc_h  \\\n",
       "count  1000.000000  1000.000000  1000.000000  1000.000000  1000.000000   \n",
       "mean     10.054000   627.121000  1239.774000  2138.998000    11.995000   \n",
       "std       6.095099   432.929699   439.670981  1088.092278     4.320607   \n",
       "min       0.000000     0.000000   501.000000   263.000000     5.000000   \n",
       "25%       5.000000   263.750000   831.750000  1237.250000     8.000000   \n",
       "50%      10.000000   564.500000  1250.000000  2153.500000    12.000000   \n",
       "75%      16.000000   903.000000  1637.750000  3065.500000    16.000000   \n",
       "max      20.000000  1907.000000  1998.000000  3989.000000    19.000000   \n",
       "\n",
       "              sc_w    talk_time      three_g  touch_screen         wifi  \n",
       "count  1000.000000  1000.000000  1000.000000    1000.00000  1000.000000  \n",
       "mean      5.316000    11.085000     0.756000       0.50000     0.507000  \n",
       "std       4.240062     5.497636     0.429708       0.50025     0.500201  \n",
       "min       0.000000     2.000000     0.000000       0.00000     0.000000  \n",
       "25%       2.000000     6.750000     1.000000       0.00000     0.000000  \n",
       "50%       5.000000    11.000000     1.000000       0.50000     1.000000  \n",
       "75%       8.000000    16.000000     1.000000       1.00000     1.000000  \n",
       "max      18.000000    20.000000     1.000000       1.00000     1.000000  \n",
       "\n",
       "[8 rows x 21 columns]"
      ]
     },
     "execution_count": 99,
     "metadata": {},
     "output_type": "execute_result"
    }
   ],
   "source": [
    "df.describe()"
   ]
  },
  {
   "cell_type": "markdown",
   "id": "theoretical-preserve",
   "metadata": {
    "id": "IAchwPKOHg7g",
    "papermill": {
     "duration": 0.057257,
     "end_time": "2022-07-29T17:52:08.203365",
     "exception": false,
     "start_time": "2022-07-29T17:52:08.146108",
     "status": "completed"
    },
    "tags": []
   },
   "source": [
    "**Checking for null values**"
   ]
  },
  {
   "cell_type": "code",
   "execution_count": 100,
   "id": "german-regard",
   "metadata": {
    "execution": {
     "iopub.execute_input": "2022-07-29T17:52:08.348683Z",
     "iopub.status.busy": "2022-07-29T17:52:08.347227Z",
     "iopub.status.idle": "2022-07-29T17:52:08.353268Z",
     "shell.execute_reply": "2022-07-29T17:52:08.353708Z",
     "shell.execute_reply.started": "2021-12-01T09:24:55.763546Z"
    },
    "id": "KZ_SUR-Vthy5",
    "outputId": "fc7cf752-f93c-430c-d20c-a44a803f7137",
    "papermill": {
     "duration": 0.080552,
     "end_time": "2022-07-29T17:52:08.353926",
     "exception": false,
     "start_time": "2022-07-29T17:52:08.273374",
     "status": "completed"
    },
    "tags": []
   },
   "outputs": [
    {
     "data": {
      "text/plain": [
       "id               0\n",
       "battery_power    0\n",
       "blue             0\n",
       "clock_speed      0\n",
       "dual_sim         0\n",
       "fc               0\n",
       "four_g           0\n",
       "int_memory       0\n",
       "m_dep            0\n",
       "mobile_wt        0\n",
       "n_cores          0\n",
       "pc               0\n",
       "px_height        0\n",
       "px_width         0\n",
       "ram              0\n",
       "sc_h             0\n",
       "sc_w             0\n",
       "talk_time        0\n",
       "three_g          0\n",
       "touch_screen     0\n",
       "wifi             0\n",
       "dtype: int64"
      ]
     },
     "execution_count": 100,
     "metadata": {},
     "output_type": "execute_result"
    }
   ],
   "source": [
    "df.isnull().sum()"
   ]
  },
  {
   "cell_type": "code",
   "execution_count": 101,
   "id": "1aca289b",
   "metadata": {},
   "outputs": [
    {
     "name": "stdout",
     "output_type": "stream",
     "text": [
      "Requirement already satisfied: missingno in c:\\users\\vinay punnamaraju pc\\appdata\\local\\programs\\python\\python311\\lib\\site-packages (0.5.2)\n",
      "Requirement already satisfied: numpy in c:\\users\\vinay punnamaraju pc\\appdata\\local\\programs\\python\\python311\\lib\\site-packages (from missingno) (1.25.2)\n",
      "Requirement already satisfied: matplotlib in c:\\users\\vinay punnamaraju pc\\appdata\\local\\programs\\python\\python311\\lib\\site-packages (from missingno) (3.7.2)\n",
      "Requirement already satisfied: scipy in c:\\users\\vinay punnamaraju pc\\appdata\\local\\programs\\python\\python311\\lib\\site-packages (from missingno) (1.11.2)\n",
      "Requirement already satisfied: seaborn in c:\\users\\vinay punnamaraju pc\\appdata\\local\\programs\\python\\python311\\lib\\site-packages (from missingno) (0.12.2)\n",
      "Requirement already satisfied: contourpy>=1.0.1 in c:\\users\\vinay punnamaraju pc\\appdata\\local\\programs\\python\\python311\\lib\\site-packages (from matplotlib->missingno) (1.1.0)\n",
      "Requirement already satisfied: cycler>=0.10 in c:\\users\\vinay punnamaraju pc\\appdata\\local\\programs\\python\\python311\\lib\\site-packages (from matplotlib->missingno) (0.11.0)\n",
      "Requirement already satisfied: fonttools>=4.22.0 in c:\\users\\vinay punnamaraju pc\\appdata\\local\\programs\\python\\python311\\lib\\site-packages (from matplotlib->missingno) (4.42.1)\n",
      "Requirement already satisfied: kiwisolver>=1.0.1 in c:\\users\\vinay punnamaraju pc\\appdata\\local\\programs\\python\\python311\\lib\\site-packages (from matplotlib->missingno) (1.4.5)\n",
      "Requirement already satisfied: packaging>=20.0 in c:\\users\\vinay punnamaraju pc\\appdata\\local\\programs\\python\\python311\\lib\\site-packages (from matplotlib->missingno) (23.1)\n",
      "Requirement already satisfied: pillow>=6.2.0 in c:\\users\\vinay punnamaraju pc\\appdata\\local\\programs\\python\\python311\\lib\\site-packages (from matplotlib->missingno) (9.5.0)\n",
      "Requirement already satisfied: pyparsing<3.1,>=2.3.1 in c:\\users\\vinay punnamaraju pc\\appdata\\local\\programs\\python\\python311\\lib\\site-packages (from matplotlib->missingno) (3.0.9)\n",
      "Requirement already satisfied: python-dateutil>=2.7 in c:\\users\\vinay punnamaraju pc\\appdata\\roaming\\python\\python311\\site-packages (from matplotlib->missingno) (2.8.2)\n",
      "Requirement already satisfied: pandas>=0.25 in c:\\users\\vinay punnamaraju pc\\appdata\\local\\programs\\python\\python311\\lib\\site-packages (from seaborn->missingno) (2.1.0)\n",
      "Requirement already satisfied: pytz>=2020.1 in c:\\users\\vinay punnamaraju pc\\appdata\\local\\programs\\python\\python311\\lib\\site-packages (from pandas>=0.25->seaborn->missingno) (2023.3)\n",
      "Requirement already satisfied: tzdata>=2022.1 in c:\\users\\vinay punnamaraju pc\\appdata\\local\\programs\\python\\python311\\lib\\site-packages (from pandas>=0.25->seaborn->missingno) (2023.3)\n",
      "Requirement already satisfied: six>=1.5 in c:\\users\\vinay punnamaraju pc\\appdata\\roaming\\python\\python311\\site-packages (from python-dateutil>=2.7->matplotlib->missingno) (1.16.0)\n"
     ]
    },
    {
     "name": "stderr",
     "output_type": "stream",
     "text": [
      "\n",
      "[notice] A new release of pip is available: 23.2 -> 23.2.1\n",
      "[notice] To update, run: python.exe -m pip install --upgrade pip\n"
     ]
    }
   ],
   "source": [
    "!pip install missingno\n"
   ]
  },
  {
   "cell_type": "code",
   "execution_count": 102,
   "id": "tropical-cradle",
   "metadata": {
    "execution": {
     "iopub.execute_input": "2022-07-29T17:52:08.475497Z",
     "iopub.status.busy": "2022-07-29T17:52:08.473674Z",
     "iopub.status.idle": "2022-07-29T17:52:09.713076Z",
     "shell.execute_reply": "2022-07-29T17:52:09.712506Z",
     "shell.execute_reply.started": "2021-12-01T09:24:55.774428Z"
    },
    "id": "7FgnmP-WuX2e",
    "outputId": "cd4c7ebd-8c70-4b92-fd8a-b424e45cd7dc",
    "papermill": {
     "duration": 1.300073,
     "end_time": "2022-07-29T17:52:09.713296",
     "exception": false,
     "start_time": "2022-07-29T17:52:08.413223",
     "status": "completed"
    },
    "tags": []
   },
   "outputs": [
    {
     "data": {
      "image/png": "[encoded data removed]",
      "text/plain": [
       "<Figure size 2500x1000 with 3 Axes>"
      ]
     },
     "metadata": {},
     "output_type": "display_data"
    }
   ],
   "source": [
    "import missingno as msno\n",
    "msno.bar(df)\n",
    "plt.show()\n"
   ]
  },
  {
   "cell_type": "markdown",
   "id": "eight-liberal",
   "metadata": {
    "id": "x-Ryk9s5HsOR",
    "papermill": {
     "duration": 0.059213,
     "end_time": "2022-07-29T17:52:09.831967",
     "exception": false,
     "start_time": "2022-07-29T17:52:09.772754",
     "status": "completed"
    },
    "tags": []
   },
   "source": [
    "**Checking the variance**"
   ]
  },
  {
   "cell_type": "code",
   "execution_count": 103,
   "id": "narrative-leather",
   "metadata": {
    "execution": {
     "iopub.execute_input": "2022-07-29T17:52:09.954872Z",
     "iopub.status.busy": "2022-07-29T17:52:09.953915Z",
     "iopub.status.idle": "2022-07-29T17:52:09.965375Z",
     "shell.execute_reply": "2022-07-29T17:52:09.965850Z",
     "shell.execute_reply.started": "2021-12-01T09:24:57.032508Z"
    },
    "id": "JknmBjY3tmRd",
    "outputId": "c53ce541-44b3-46d1-f832-f35826bb0186",
    "papermill": {
     "duration": 0.073951,
     "end_time": "2022-07-29T17:52:09.966034",
     "exception": false,
     "start_time": "2022-07-29T17:52:09.892083",
     "status": "completed"
    },
    "tags": []
   },
   "outputs": [
    {
     "data": {
      "text/plain": [
       "id               8.341667e+04\n",
       "battery_power    1.870201e+05\n",
       "blue             2.499940e-01\n",
       "clock_speed      6.876849e-01\n",
       "dual_sim         2.499610e-01\n",
       "fc               1.992127e+01\n",
       "four_g           2.500811e-01\n",
       "int_memory       3.286495e+02\n",
       "m_dep            7.888263e-02\n",
       "mobile_wt        1.214631e+03\n",
       "n_cores          5.235652e+00\n",
       "pc               3.715023e+01\n",
       "px_height        1.874281e+05\n",
       "px_width         1.933106e+05\n",
       "ram              1.183945e+06\n",
       "sc_h             1.866764e+01\n",
       "sc_w             1.797812e+01\n",
       "talk_time        3.022400e+01\n",
       "three_g          1.846486e-01\n",
       "touch_screen     2.502503e-01\n",
       "wifi             2.502012e-01\n",
       "dtype: float64"
      ]
     },
     "execution_count": 103,
     "metadata": {},
     "output_type": "execute_result"
    }
   ],
   "source": [
    "df.var()"
   ]
  },
  {
   "cell_type": "code",
   "execution_count": 104,
   "id": "3d10d668",
   "metadata": {},
   "outputs": [
    {
     "data": {
      "text/html": [
       "<div>\n",
       "<style scoped>\n",
       "    .dataframe tbody tr th:only-of-type {\n",
       "        vertical-align: middle;\n",
       "    }\n",
       "\n",
       "    .dataframe tbody tr th {\n",
       "        vertical-align: top;\n",
       "    }\n",
       "\n",
       "    .dataframe thead th {\n",
       "        text-align: right;\n",
       "    }\n",
       "</style>\n",
       "<table border=\"1\" class=\"dataframe\">\n",
       "  <thead>\n",
       "    <tr style=\"text-align: right;\">\n",
       "      <th></th>\n",
       "      <th>id</th>\n",
       "      <th>battery_power</th>\n",
       "      <th>blue</th>\n",
       "      <th>clock_speed</th>\n",
       "      <th>dual_sim</th>\n",
       "      <th>fc</th>\n",
       "      <th>four_g</th>\n",
       "      <th>int_memory</th>\n",
       "      <th>m_dep</th>\n",
       "      <th>mobile_wt</th>\n",
       "      <th>...</th>\n",
       "      <th>pc</th>\n",
       "      <th>px_height</th>\n",
       "      <th>px_width</th>\n",
       "      <th>ram</th>\n",
       "      <th>sc_h</th>\n",
       "      <th>sc_w</th>\n",
       "      <th>talk_time</th>\n",
       "      <th>three_g</th>\n",
       "      <th>touch_screen</th>\n",
       "      <th>wifi</th>\n",
       "    </tr>\n",
       "  </thead>\n",
       "  <tbody>\n",
       "    <tr>\n",
       "      <th>0</th>\n",
       "      <td>1</td>\n",
       "      <td>1043</td>\n",
       "      <td>1</td>\n",
       "      <td>1.8</td>\n",
       "      <td>1</td>\n",
       "      <td>14</td>\n",
       "      <td>0</td>\n",
       "      <td>5</td>\n",
       "      <td>0.1</td>\n",
       "      <td>193</td>\n",
       "      <td>...</td>\n",
       "      <td>16</td>\n",
       "      <td>226</td>\n",
       "      <td>1412</td>\n",
       "      <td>3476</td>\n",
       "      <td>12</td>\n",
       "      <td>7</td>\n",
       "      <td>2</td>\n",
       "      <td>0</td>\n",
       "      <td>1</td>\n",
       "      <td>0</td>\n",
       "    </tr>\n",
       "    <tr>\n",
       "      <th>1</th>\n",
       "      <td>2</td>\n",
       "      <td>841</td>\n",
       "      <td>1</td>\n",
       "      <td>0.5</td>\n",
       "      <td>1</td>\n",
       "      <td>4</td>\n",
       "      <td>1</td>\n",
       "      <td>61</td>\n",
       "      <td>0.8</td>\n",
       "      <td>191</td>\n",
       "      <td>...</td>\n",
       "      <td>12</td>\n",
       "      <td>746</td>\n",
       "      <td>857</td>\n",
       "      <td>3895</td>\n",
       "      <td>6</td>\n",
       "      <td>0</td>\n",
       "      <td>7</td>\n",
       "      <td>1</td>\n",
       "      <td>0</td>\n",
       "      <td>0</td>\n",
       "    </tr>\n",
       "    <tr>\n",
       "      <th>2</th>\n",
       "      <td>3</td>\n",
       "      <td>1807</td>\n",
       "      <td>1</td>\n",
       "      <td>2.8</td>\n",
       "      <td>0</td>\n",
       "      <td>1</td>\n",
       "      <td>0</td>\n",
       "      <td>27</td>\n",
       "      <td>0.9</td>\n",
       "      <td>186</td>\n",
       "      <td>...</td>\n",
       "      <td>4</td>\n",
       "      <td>1270</td>\n",
       "      <td>1366</td>\n",
       "      <td>2396</td>\n",
       "      <td>17</td>\n",
       "      <td>10</td>\n",
       "      <td>10</td>\n",
       "      <td>0</td>\n",
       "      <td>1</td>\n",
       "      <td>1</td>\n",
       "    </tr>\n",
       "    <tr>\n",
       "      <th>3</th>\n",
       "      <td>4</td>\n",
       "      <td>1546</td>\n",
       "      <td>0</td>\n",
       "      <td>0.5</td>\n",
       "      <td>1</td>\n",
       "      <td>18</td>\n",
       "      <td>1</td>\n",
       "      <td>25</td>\n",
       "      <td>0.5</td>\n",
       "      <td>96</td>\n",
       "      <td>...</td>\n",
       "      <td>20</td>\n",
       "      <td>295</td>\n",
       "      <td>1752</td>\n",
       "      <td>3893</td>\n",
       "      <td>10</td>\n",
       "      <td>0</td>\n",
       "      <td>7</td>\n",
       "      <td>1</td>\n",
       "      <td>1</td>\n",
       "      <td>0</td>\n",
       "    </tr>\n",
       "    <tr>\n",
       "      <th>4</th>\n",
       "      <td>5</td>\n",
       "      <td>1434</td>\n",
       "      <td>0</td>\n",
       "      <td>1.4</td>\n",
       "      <td>0</td>\n",
       "      <td>11</td>\n",
       "      <td>1</td>\n",
       "      <td>49</td>\n",
       "      <td>0.5</td>\n",
       "      <td>108</td>\n",
       "      <td>...</td>\n",
       "      <td>18</td>\n",
       "      <td>749</td>\n",
       "      <td>810</td>\n",
       "      <td>1773</td>\n",
       "      <td>15</td>\n",
       "      <td>8</td>\n",
       "      <td>7</td>\n",
       "      <td>1</td>\n",
       "      <td>0</td>\n",
       "      <td>1</td>\n",
       "    </tr>\n",
       "  </tbody>\n",
       "</table>\n",
       "<p>5 rows × 21 columns</p>\n",
       "</div>"
      ],
      "text/plain": [
       "   id  battery_power  blue  clock_speed  dual_sim  fc  four_g  int_memory  \\\n",
       "0   1           1043     1          1.8         1  14       0           5   \n",
       "1   2            841     1          0.5         1   4       1          61   \n",
       "2   3           1807     1          2.8         0   1       0          27   \n",
       "3   4           1546     0          0.5         1  18       1          25   \n",
       "4   5           1434     0          1.4         0  11       1          49   \n",
       "\n",
       "   m_dep  mobile_wt  ...  pc  px_height  px_width   ram  sc_h  sc_w  \\\n",
       "0    0.1        193  ...  16        226      1412  3476    12     7   \n",
       "1    0.8        191  ...  12        746       857  3895     6     0   \n",
       "2    0.9        186  ...   4       1270      1366  2396    17    10   \n",
       "3    0.5         96  ...  20        295      1752  3893    10     0   \n",
       "4    0.5        108  ...  18        749       810  1773    15     8   \n",
       "\n",
       "   talk_time  three_g  touch_screen  wifi  \n",
       "0          2        0             1     0  \n",
       "1          7        1             0     0  \n",
       "2         10        0             1     1  \n",
       "3          7        1             1     0  \n",
       "4          7        1             0     1  \n",
       "\n",
       "[5 rows x 21 columns]"
      ]
     },
     "execution_count": 104,
     "metadata": {},
     "output_type": "execute_result"
    }
   ],
   "source": [
    "df.head()"
   ]
  },
  {
   "cell_type": "code",
   "execution_count": 105,
   "id": "funky-pipeline",
   "metadata": {
    "execution": {
     "iopub.execute_input": "2022-07-29T17:52:10.088382Z",
     "iopub.status.busy": "2022-07-29T17:52:10.087717Z",
     "iopub.status.idle": "2022-07-29T17:52:10.095042Z",
     "shell.execute_reply": "2022-07-29T17:52:10.095572Z",
     "shell.execute_reply.started": "2021-12-01T09:24:57.045511Z"
    },
    "id": "-5KlTVgxuBeI",
    "outputId": "5df851ad-819d-450e-abbb-c0731a59f3f8",
    "papermill": {
     "duration": 0.069732,
     "end_time": "2022-07-29T17:52:10.095739",
     "exception": false,
     "start_time": "2022-07-29T17:52:10.026007",
     "status": "completed"
    },
    "tags": []
   },
   "outputs": [
    {
     "data": {
      "text/plain": [
       "array([1043,  841, 1807, 1546, 1434, 1464, 1718,  833, 1111, 1520, 1500,\n",
       "       1343,  900, 1190,  630, 1846, 1985, 1042, 1231, 1488,  968,  529,\n",
       "       1558,  533, 1037, 1025, 1858,  980,  644, 1024, 1981, 1380, 1557,\n",
       "       1201, 1074, 1175, 1280, 1715, 1165,  567, 1952,  822,  685, 1388,\n",
       "       1972, 1411, 1094, 1653,  916, 1712,  882,  632, 1442, 1630, 1596,\n",
       "       1272, 1640, 1889, 1907,  578, 1634, 1533,  660, 1847, 1206,  549,\n",
       "       1705, 1366, 1991, 1102, 1452, 1810, 1166,  881, 1134, 1031, 1376,\n",
       "       1391,  979, 1075, 1999, 1626,  942, 1182, 1982, 1373, 1151, 1650,\n",
       "       1663, 1965,  679, 1465, 1809,  757, 1034, 1119,  559, 1204, 1008,\n",
       "       1397,  697, 1939, 1039, 1605,  769,  861,  504, 1930, 1795, 1363,\n",
       "       1901, 1319,  859, 1664,  955,  517, 1806, 1348, 1455, 1611, 1573,\n",
       "        557, 1599, 1051, 1857, 1986,  591, 1140,  923, 1582,  723, 1251,\n",
       "        574,  948, 1571,  564, 1466,  597,  895, 1535, 1832, 1045, 1483,\n",
       "        976, 1840,  624, 1963, 1307, 1933, 1496, 1532, 1004,  945, 1081,\n",
       "       1012, 1762,  796, 1547,  988, 1180,  852,  607, 1765, 1250, 1577,\n",
       "       1153,  651, 1186, 1429,  556, 1735, 1859,  915,  890,  758,  541,\n",
       "        586,  762,  683, 1526, 1771,  639, 1783, 1384, 1770, 1202,  885,\n",
       "       1629, 1072, 1863, 1739, 1278,  562, 1249, 1811,  560, 1773,  725,\n",
       "        800, 1300, 1001,  500, 1378,  951, 1038,  987, 1698,  785, 1851,\n",
       "       1976, 1649, 1157, 1702, 1040,  790,  739, 1364, 1580, 1519,  989,\n",
       "       1240, 1273, 1784, 1169,  703,  959, 1292, 1927, 1477, 1759,  831,\n",
       "       1803, 1361, 1183,  917, 1247,  930, 1019, 1855, 1730, 1887, 1590,\n",
       "        603, 1396, 1598, 1692,  628, 1883,  819, 1367, 1744, 1086,  899,\n",
       "        896, 1714, 1395,  786, 1687,  669, 1423, 1600, 1621, 1672, 1934,\n",
       "       1700, 1550,  626, 1737, 1370, 1899,  848, 1430,  768, 1856, 1729,\n",
       "       1210, 1880,  996, 1263, 1956,  992,  911, 1979, 1095,  656, 1394,\n",
       "       1632, 1225, 1337, 1178, 1269,  986, 1904,  803, 1399,  788,  579,\n",
       "       1010,  530, 1289, 1877, 1764, 1709, 1690,  600,  743, 1850, 1297,\n",
       "       1706, 1967, 1392, 1248,  894, 1829, 1372,  706,  649, 1137, 1320,\n",
       "        792,  918,  929,  767, 1315,  569,  712, 1603, 1472, 1543,  652,\n",
       "        546, 1408, 1021, 1658, 1088,  542,  576,  950,  518, 1996, 1197,\n",
       "       1006, 1679, 1262,  904, 1834,  681,  687,  863,  944, 1283,  817,\n",
       "        804, 1177, 1997, 1745, 1187, 1422,  658,  521,  666,  805, 1655,\n",
       "       1224, 1234, 1093,  583, 1988, 1746,  907, 1427, 1101, 1403,  657,\n",
       "       1688,  876, 1065, 1235, 1959,  650, 1030,  853,  744,  690,  590,\n",
       "       1266,  815, 1893,  717, 1439,  983,  718,  776, 1018,  875, 1341,\n",
       "       1719, 1703,  701, 1560,  695, 1487,  511,  507, 1490, 1257,  926,\n",
       "       1303, 1812, 1943, 1082,  721,  654, 1948, 1242, 1453, 1232,  795,\n",
       "       1915,  532, 1767, 1667, 1346,  958, 1176, 1911, 1789,  972, 1256,\n",
       "       1900,  756, 1728, 1970,  888, 1419,  588, 1607, 1171, 1138, 1096,\n",
       "        906,  740, 1435, 1995, 1813,  812,  977, 1125, 1733, 1333,  964,\n",
       "       1613, 1123, 1913, 1302,  797, 1502, 1457, 1514, 1604, 1919, 1152,\n",
       "        664, 1848, 1189, 1130,  727, 1275, 1108,  839,  750, 1749, 1229,\n",
       "       1506,  709,  941,  763, 1581, 1308,  702,  868,  877,  510, 1203,\n",
       "       1780, 1334,  825, 1894, 1383,  837,  640, 1194,  520,  558,  880,\n",
       "       1938, 1842, 1567,  914, 1568,  873, 1371, 1507,  735, 1216,  621,\n",
       "        934, 1962, 1078,  761, 1758, 1657, 1329, 1923,  613, 1268,  519,\n",
       "        936, 1878, 1141,  794, 1260, 1281, 1208, 1023, 1515, 1637, 1131,\n",
       "       1544,  844,  985, 1906,  617,  716,  676,  524,  553,  823, 1928,\n",
       "       1517, 1425,  547, 1886, 1804, 1352, 1785, 1184,  886, 1309,  734,\n",
       "       1296,  782,  965, 1946, 1701, 1754,  897, 1742, 1181,  933,  913,\n",
       "       1651, 1154,  534, 1324, 1888, 1540, 1774, 1159,  543, 1836, 1290,\n",
       "        645, 1654, 1156, 1541, 1693, 1564, 1787,  770, 1748,  975, 1597,\n",
       "       1941, 1061, 1620, 1570, 1524, 1179, 1555,  981, 1920, 1470, 1852,\n",
       "       1055, 1989, 1146, 1091, 1360, 1220, 1636, 1800,  674, 1591,  572,\n",
       "       1143, 1492, 1825, 1450,  575, 1057, 1992,  974, 1724, 1036, 1336,\n",
       "       1890,  608,  535, 1191,  922,  966, 1351,  732, 1005, 1575, 1306,\n",
       "       1170, 1741, 1288, 1270, 1246,  671,  582, 1951,  733,  820, 1723,\n",
       "       1869, 1670, 1734,  602, 1060, 1445,  536, 1255, 1252, 1471,  842,\n",
       "        643,  667, 1791, 1104, 1276,  927, 1162, 1876, 1926, 1949, 1556,\n",
       "       1955, 1421, 1332, 1628, 1752,  854, 1053, 1652,  646, 1359, 1691,\n",
       "        675, 1062,  781, 1480,  946, 1545,  898, 1662, 1056, 1772,  694,\n",
       "       1387, 1259, 1066,  940, 1595,  708,  726,  871, 1347, 1659,  544,\n",
       "       1891,  937,  840,  710,  623,  700,  995, 1325, 1401,  636, 1207,\n",
       "       1198, 1796, 1882, 1489, 1980,  829, 1998, 1814, 1711,  971,  991,\n",
       "        905,  635, 1797, 1895,  609, 1185], dtype=int64)"
      ]
     },
     "execution_count": 105,
     "metadata": {},
     "output_type": "execute_result"
    }
   ],
   "source": [
    "df['battery_power'].unique()"
   ]
  },
  {
   "cell_type": "markdown",
   "id": "motivated-assist",
   "metadata": {
    "id": "Sdrm8QYiH5mX",
    "papermill": {
     "duration": 0.059757,
     "end_time": "2022-07-29T17:52:10.216896",
     "exception": false,
     "start_time": "2022-07-29T17:52:10.157139",
     "status": "completed"
    },
    "tags": []
   },
   "source": [
    "# Exploratory Data Analysis"
   ]
  },
  {
   "cell_type": "markdown",
   "id": "geological-spring",
   "metadata": {
    "id": "D0Z7pWl-ICM-",
    "papermill": {
     "duration": 0.062538,
     "end_time": "2022-07-29T17:52:10.339690",
     "exception": false,
     "start_time": "2022-07-29T17:52:10.277152",
     "status": "completed"
    },
    "tags": []
   },
   "source": [
    "**Relationship between ram and price**"
   ]
  },
  {
   "cell_type": "code",
   "execution_count": 106,
   "id": "41ec2273",
   "metadata": {},
   "outputs": [
    {
     "name": "stdout",
     "output_type": "stream",
     "text": [
      "Index(['id', 'battery_power', 'blue', 'clock_speed', 'dual_sim', 'fc',\n",
      "       'four_g', 'int_memory', 'm_dep', 'mobile_wt', 'n_cores', 'pc',\n",
      "       'px_height', 'px_width', 'ram', 'sc_h', 'sc_w', 'talk_time', 'three_g',\n",
      "       'touch_screen', 'wifi'],\n",
      "      dtype='object')\n"
     ]
    }
   ],
   "source": [
    "print(df.columns)\n"
   ]
  },
  {
   "cell_type": "code",
   "execution_count": 107,
   "id": "3e6c501d",
   "metadata": {},
   "outputs": [
    {
     "name": "stdout",
     "output_type": "stream",
     "text": [
      "   id  battery_power  price_range\n",
      "0   1           1043            1\n",
      "1   2            841            2\n",
      "2   3           1807            1\n",
      "3   4           1546            3\n",
      "4   5           1434            4\n"
     ]
    }
   ],
   "source": [
    "import pandas as pd\n",
    "\n",
    "# Assuming other columns are present in your DataFrame\n",
    "data = {\n",
    "    'id': [1, 2, 3, 4, 5],\n",
    "    'battery_power': [1043, 841, 1807, 1546, 1434],\n",
    "    # Add other columns here\n",
    "}\n",
    "\n",
    "df = pd.DataFrame(data)\n",
    "df['price_range'] = [1, 2, 1, 3, 4]  # Add the 'price_range' column\n",
    "\n",
    "print(df)\n"
   ]
  },
  {
   "cell_type": "code",
   "execution_count": 108,
   "id": "a5d0ac84",
   "metadata": {},
   "outputs": [
    {
     "name": "stdout",
     "output_type": "stream",
     "text": [
      "Index(['id', 'battery_power', 'price_range'], dtype='object')\n",
      "int64\n",
      "int64\n"
     ]
    },
    {
     "data": {
      "image/png": "[encoded data removed]",
      "text/plain": [
       "<Figure size 640x480 with 1 Axes>"
      ]
     },
     "metadata": {},
     "output_type": "display_data"
    }
   ],
   "source": [
    "import seaborn as sns\n",
    "import matplotlib.pyplot as plt\n",
    "\n",
    "# Double-check the column names and data types\n",
    "print(df.columns)\n",
    "print(df['battery_power'].dtype)\n",
    "print(df['price_range'].dtype)\n",
    "\n",
    "# Assuming 'price_range' is the correct column name\n",
    "sns.pointplot(x='battery_power', y='price_range', data=df)\n",
    "\n",
    "plt.show()\n"
   ]
  },
  {
   "cell_type": "code",
   "execution_count": 109,
   "id": "eight-ghana",
   "metadata": {
    "execution": {
     "iopub.execute_input": "2022-07-29T17:52:10.466498Z",
     "iopub.status.busy": "2022-07-29T17:52:10.465817Z",
     "iopub.status.idle": "2022-07-29T17:52:10.753782Z",
     "shell.execute_reply": "2022-07-29T17:52:10.753144Z",
     "shell.execute_reply.started": "2021-12-01T09:24:57.055024Z"
    },
    "id": "394Zito7vOzb",
    "outputId": "c679159c-3dbb-4cef-bc66-8a62b791f89c",
    "papermill": {
     "duration": 0.350169,
     "end_time": "2022-07-29T17:52:10.753919",
     "exception": false,
     "start_time": "2022-07-29T17:52:10.403750",
     "status": "completed"
    },
    "tags": []
   },
   "outputs": [
    {
     "data": {
      "text/plain": [
       "<Axes: xlabel='price_range', ylabel='battery_power'>"
      ]
     },
     "execution_count": 109,
     "metadata": {},
     "output_type": "execute_result"
    },
    {
     "data": {
      "image/png": "[encoded data removed]",
      "text/plain": [
       "<Figure size 640x480 with 1 Axes>"
      ]
     },
     "metadata": {},
     "output_type": "display_data"
    }
   ],
   "source": [
    "sns.pointplot(y='battery_power',x='price_range',data=df)"
   ]
  },
  {
   "cell_type": "markdown",
   "id": "surrounded-creativity",
   "metadata": {
    "id": "HI90k0mkILzy",
    "papermill": {
     "duration": 0.061838,
     "end_time": "2022-07-29T17:52:10.876951",
     "exception": false,
     "start_time": "2022-07-29T17:52:10.815113",
     "status": "completed"
    },
    "tags": []
   },
   "source": [
    "**Relationship between battery and price**"
   ]
  },
  {
   "cell_type": "code",
   "execution_count": 110,
   "id": "provincial-sleep",
   "metadata": {
    "execution": {
     "iopub.execute_input": "2022-07-29T17:52:11.528097Z",
     "iopub.status.busy": "2022-07-29T17:52:11.527481Z",
     "iopub.status.idle": "2022-07-29T17:52:11.706097Z",
     "shell.execute_reply": "2022-07-29T17:52:11.706623Z",
     "shell.execute_reply.started": "2021-12-01T09:24:57.754334Z"
    },
    "id": "tqQHL6yNaEsa",
    "outputId": "77e99221-204a-4cba-9eab-e0e4fd2a6f3d",
    "papermill": {
     "duration": 0.244331,
     "end_time": "2022-07-29T17:52:11.706806",
     "exception": false,
     "start_time": "2022-07-29T17:52:11.462475",
     "status": "completed"
    },
    "tags": []
   },
   "outputs": [
    {
     "data": {
      "text/plain": [
       "<Axes: xlabel='price_range', ylabel='battery_power'>"
      ]
     },
     "execution_count": 110,
     "metadata": {},
     "output_type": "execute_result"
    },
    {
     "data": {
      "image/png": "[encoded data removed]",
      "text/plain": [
       "<Figure size 640x480 with 1 Axes>"
      ]
     },
     "metadata": {},
     "output_type": "display_data"
    }
   ],
   "source": [
    "sns.boxplot(x='price_range',y='battery_power',data=df)"
   ]
  },
  {
   "cell_type": "markdown",
   "id": "casual-ferry",
   "metadata": {
    "id": "YovBQ0GtITfI",
    "papermill": {
     "duration": 0.062921,
     "end_time": "2022-07-29T17:52:11.834022",
     "exception": false,
     "start_time": "2022-07-29T17:52:11.771101",
     "status": "completed"
    },
    "tags": []
   },
   "source": [
    "**Relationship between memory and price**"
   ]
  },
  {
   "cell_type": "code",
   "execution_count": 111,
   "id": "macro-constraint",
   "metadata": {
    "execution": {
     "iopub.execute_input": "2022-07-29T17:52:12.393677Z",
     "iopub.status.busy": "2022-07-29T17:52:12.392760Z",
     "iopub.status.idle": "2022-07-29T17:52:12.396829Z",
     "shell.execute_reply": "2022-07-29T17:52:12.397548Z",
     "shell.execute_reply.started": "2021-12-01T09:24:58.26333Z"
    },
    "id": "kEEFc9vNaRnO",
    "outputId": "a7e4378e-7e2b-4894-8112-b09f1c4de79d",
    "papermill": {
     "duration": 0.086509,
     "end_time": "2022-07-29T17:52:12.397746",
     "exception": false,
     "start_time": "2022-07-29T17:52:12.311237",
     "status": "completed"
    },
    "tags": []
   },
   "outputs": [
    {
     "data": {
      "text/plain": [
       "Index(['id', 'battery_power', 'price_range'], dtype='object')"
      ]
     },
     "execution_count": 111,
     "metadata": {},
     "output_type": "execute_result"
    }
   ],
   "source": [
    "col = df.columns\n",
    "col\n"
   ]
  },
  {
   "cell_type": "code",
   "execution_count": 112,
   "id": "described-interim",
   "metadata": {
    "execution": {
     "iopub.execute_input": "2022-07-29T17:52:12.551221Z",
     "iopub.status.busy": "2022-07-29T17:52:12.550548Z",
     "iopub.status.idle": "2022-07-29T17:52:12.555419Z",
     "shell.execute_reply": "2022-07-29T17:52:12.556036Z",
     "shell.execute_reply.started": "2021-12-01T09:24:58.272639Z"
    },
    "id": "h-Vqx4-o2YnX",
    "papermill": {
     "duration": 0.083348,
     "end_time": "2022-07-29T17:52:12.556206",
     "exception": false,
     "start_time": "2022-07-29T17:52:12.472858",
     "status": "completed"
    },
    "tags": []
   },
   "outputs": [],
   "source": [
    "categorical_col = ['blue','dual_sim','four_g','three_g','touch_screen','price_range']"
   ]
  },
  {
   "cell_type": "markdown",
   "id": "ongoing-chest",
   "metadata": {
    "id": "1EeGQuaaIcou",
    "papermill": {
     "duration": 0.066064,
     "end_time": "2022-07-29T17:52:12.692611",
     "exception": false,
     "start_time": "2022-07-29T17:52:12.626547",
     "status": "completed"
    },
    "tags": []
   },
   "source": [
    " **Count Plot for all the columns**"
   ]
  },
  {
   "cell_type": "markdown",
   "id": "ruled-intention",
   "metadata": {
    "id": "ZAgpo3S6In9w",
    "papermill": {
     "duration": 0.0675,
     "end_time": "2022-07-29T17:52:13.610835",
     "exception": false,
     "start_time": "2022-07-29T17:52:13.543335",
     "status": "completed"
    },
    "tags": []
   },
   "source": [
    "**Histogram**"
   ]
  },
  {
   "cell_type": "markdown",
   "id": "coordinated-communication",
   "metadata": {
    "id": "QysArsYLIyZ9",
    "papermill": {
     "duration": 0.079675,
     "end_time": "2022-07-29T17:52:16.444735",
     "exception": false,
     "start_time": "2022-07-29T17:52:16.365060",
     "status": "completed"
    },
    "tags": []
   },
   "source": [
    "**Checking the correlation by plotting correlation plot.**"
   ]
  },
  {
   "cell_type": "code",
   "execution_count": 113,
   "id": "fixed-trouble",
   "metadata": {
    "execution": {
     "iopub.execute_input": "2022-07-29T17:52:16.609279Z",
     "iopub.status.busy": "2022-07-29T17:52:16.608408Z",
     "iopub.status.idle": "2022-07-29T17:52:17.101335Z",
     "shell.execute_reply": "2022-07-29T17:52:17.101799Z",
     "shell.execute_reply.started": "2021-12-01T09:25:01.527104Z"
    },
    "id": "LusFY9Bd4GQI",
    "outputId": "337988be-52cc-475a-b291-6028562d42c6",
    "papermill": {
     "duration": 0.578003,
     "end_time": "2022-07-29T17:52:17.102013",
     "exception": false,
     "start_time": "2022-07-29T17:52:16.524010",
     "status": "completed"
    },
    "tags": []
   },
   "outputs": [
    {
     "data": {
      "text/plain": [
       "Text(0.5, 1.0, 'Correlation ')"
      ]
     },
     "execution_count": 113,
     "metadata": {},
     "output_type": "execute_result"
    },
    {
     "data": {
      "image/png": "[encoded data removed]",
      "text/plain": [
       "<Figure size 1500x1200 with 2 Axes>"
      ]
     },
     "metadata": {},
     "output_type": "display_data"
    }
   ],
   "source": [
    "corr=df.corr()\n",
    "fig = plt.figure(figsize=(15,12))\n",
    "r = sns.heatmap(corr, cmap='BrBG')\n",
    "r.set_title(\"Correlation \")"
   ]
  },
  {
   "cell_type": "code",
   "execution_count": 114,
   "id": "illegal-diamond",
   "metadata": {
    "execution": {
     "iopub.execute_input": "2022-07-29T17:52:20.694377Z",
     "iopub.status.busy": "2022-07-29T17:52:20.693720Z",
     "iopub.status.idle": "2022-07-29T17:52:20.695599Z",
     "shell.execute_reply": "2022-07-29T17:52:20.696043Z",
     "shell.execute_reply.started": "2021-12-01T09:25:04.871608Z"
    },
    "id": "BB42-tDv9XYa",
    "papermill": {
     "duration": 0.098041,
     "end_time": "2022-07-29T17:52:20.696220",
     "exception": false,
     "start_time": "2022-07-29T17:52:20.598179",
     "status": "completed"
    },
    "tags": []
   },
   "outputs": [],
   "source": [
    "x=df.drop('price_range',axis=1)\n",
    "y=df['price_range']"
   ]
  },
  {
   "cell_type": "code",
   "execution_count": 115,
   "id": "round-debate",
   "metadata": {
    "execution": {
     "iopub.execute_input": "2022-07-29T17:52:20.882049Z",
     "iopub.status.busy": "2022-07-29T17:52:20.881361Z",
     "iopub.status.idle": "2022-07-29T17:52:20.890390Z",
     "shell.execute_reply": "2022-07-29T17:52:20.890851Z",
     "shell.execute_reply.started": "2021-12-01T09:25:04.880211Z"
    },
    "id": "9l1Hh4ht-9Uc",
    "papermill": {
     "duration": 0.104154,
     "end_time": "2022-07-29T17:52:20.891063",
     "exception": false,
     "start_time": "2022-07-29T17:52:20.786909",
     "status": "completed"
    },
    "tags": []
   },
   "outputs": [],
   "source": [
    "scale=StandardScaler()\n",
    "scaled=scale.fit_transform(x)"
   ]
  },
  {
   "cell_type": "code",
   "execution_count": 116,
   "id": "vietnamese-aggregate",
   "metadata": {
    "execution": {
     "iopub.execute_input": "2022-07-29T17:52:21.076403Z",
     "iopub.status.busy": "2022-07-29T17:52:21.075728Z",
     "iopub.status.idle": "2022-07-29T17:52:21.323645Z",
     "shell.execute_reply": "2022-07-29T17:52:21.325042Z",
     "shell.execute_reply.started": "2021-12-01T09:25:04.898179Z"
    },
    "id": "bIqgyxOH_TuS",
    "outputId": "21a7fc9d-6691-4dd8-8aed-3fbc7299e50a",
    "papermill": {
     "duration": 0.344583,
     "end_time": "2022-07-29T17:52:21.325331",
     "exception": false,
     "start_time": "2022-07-29T17:52:20.980748",
     "status": "completed"
    },
    "tags": []
   },
   "outputs": [
    {
     "ename": "ModuleNotFoundError",
     "evalue": "No module named 'statsmodels'",
     "output_type": "error",
     "traceback": [
      "\u001b[1;31m---------------------------------------------------------------------------\u001b[0m",
      "\u001b[1;31mModuleNotFoundError\u001b[0m                       Traceback (most recent call last)",
      "Cell \u001b[1;32mIn[116], line 1\u001b[0m\n\u001b[1;32m----> 1\u001b[0m \u001b[39mfrom\u001b[39;00m \u001b[39mstatsmodels\u001b[39;00m\u001b[39m.\u001b[39;00m\u001b[39mstats\u001b[39;00m\u001b[39m.\u001b[39;00m\u001b[39moutliers_influence\u001b[39;00m \u001b[39mimport\u001b[39;00m variance_inflation_factor\n\u001b[0;32m      2\u001b[0m vif\u001b[39m=\u001b[39mpd\u001b[39m.\u001b[39mDataFrame()\n\u001b[0;32m      3\u001b[0m vif[\u001b[39m'\u001b[39m\u001b[39mvif\u001b[39m\u001b[39m'\u001b[39m]\u001b[39m=\u001b[39m[variance_inflation_factor(scaled,i) \u001b[39mfor\u001b[39;00m i \u001b[39min\u001b[39;00m \u001b[39mrange\u001b[39m(scaled\u001b[39m.\u001b[39mshape[\u001b[39m1\u001b[39m])]\n",
      "\u001b[1;31mModuleNotFoundError\u001b[0m: No module named 'statsmodels'"
     ]
    }
   ],
   "source": [
    "from statsmodels.stats.outliers_influence import variance_inflation_factor\n",
    "vif=pd.DataFrame()\n",
    "vif['vif']=[variance_inflation_factor(scaled,i) for i in range(scaled.shape[1])]\n",
    "vif['features']=x.columns\n",
    "vif"
   ]
  },
  {
   "cell_type": "markdown",
   "id": "superb-width",
   "metadata": {
    "id": "oSSNrVDq_vGy",
    "papermill": {
     "duration": 0.091427,
     "end_time": "2022-07-29T17:52:21.553843",
     "exception": false,
     "start_time": "2022-07-29T17:52:21.462416",
     "status": "completed"
    },
    "tags": []
   },
   "source": [
    "So,VIF is less than 5.So, There is no multicollinearity."
   ]
  },
  {
   "attachments": {
    "311f595d-7faf-48c9-a62c-e5ce7c0b7fc5.png": {
     "image/png": "[encoded data removed]"
    }
   },
   "cell_type": "markdown",
   "id": "british-destination",
   "metadata": {
    "papermill": {
     "duration": 0.089902,
     "end_time": "2022-07-29T17:52:21.734313",
     "exception": false,
     "start_time": "2022-07-29T17:52:21.644411",
     "status": "completed"
    },
    "tags": []
   },
   "source": [
    "![image.png](attachment:311f595d-7faf-48c9-a62c-e5ce7c0b7fc5.png)"
   ]
  },
  {
   "cell_type": "markdown",
   "id": "vulnerable-tutorial",
   "metadata": {
    "id": "9wDvwI4vTNpZ",
    "papermill": {
     "duration": 0.092706,
     "end_time": "2022-07-29T17:52:21.917957",
     "exception": false,
     "start_time": "2022-07-29T17:52:21.825251",
     "status": "completed"
    },
    "tags": []
   },
   "source": [
    "**3G supported phones**"
   ]
  },
  {
   "cell_type": "markdown",
   "id": "parallel-extreme",
   "metadata": {
    "id": "ztTfwqH9TUlY",
    "papermill": {
     "duration": 0.091208,
     "end_time": "2022-07-29T17:52:22.406104",
     "exception": false,
     "start_time": "2022-07-29T17:52:22.314896",
     "status": "completed"
    },
    "tags": []
   },
   "source": [
    "**4G supported phones**"
   ]
  },
  {
   "cell_type": "markdown",
   "id": "brown-iraqi",
   "metadata": {
    "id": "mXtwT69GTdKl",
    "papermill": {
     "duration": 0.09317,
     "end_time": "2022-07-29T17:52:23.388964",
     "exception": false,
     "start_time": "2022-07-29T17:52:23.295794",
     "status": "completed"
    },
    "tags": []
   },
   "source": [
    "# Models"
   ]
  },
  {
   "cell_type": "markdown",
   "id": "technological-justice",
   "metadata": {
    "id": "uEx4AVruTsoz",
    "papermill": {
     "duration": 0.094889,
     "end_time": "2022-07-29T17:52:24.537070",
     "exception": false,
     "start_time": "2022-07-29T17:52:24.442181",
     "status": "completed"
    },
    "tags": []
   },
   "source": [
    "**2.KNeighborsClassifier**"
   ]
  },
  {
   "cell_type": "code",
   "execution_count": null,
   "id": "clean-madness",
   "metadata": {
    "execution": {
     "iopub.execute_input": "2022-07-29T17:52:24.734024Z",
     "iopub.status.busy": "2022-07-29T17:52:24.733350Z",
     "iopub.status.idle": "2022-07-29T17:52:25.047177Z",
     "shell.execute_reply": "2022-07-29T17:52:25.047650Z",
     "shell.execute_reply.started": "2021-12-01T09:25:06.088503Z"
    },
    "id": "j6dDbhlJBP6t",
    "outputId": "076c5ee6-8cc4-44e9-8496-43c41cde779f",
    "papermill": {
     "duration": 0.415424,
     "end_time": "2022-07-29T17:52:25.047831",
     "exception": false,
     "start_time": "2022-07-29T17:52:24.632407",
     "status": "completed"
    },
    "tags": []
   },
   "outputs": [
    {
     "name": "stdout",
     "output_type": "stream",
     "text": [
      "Train Set Accuracy:95.13333333333334\n",
      "Test Set Accuracy:89.8\n",
      "\n",
      "Confusion Matrix:\n",
      "[[124  15   0   0]\n",
      " [  1 104  12   0]\n",
      " [  0   6 110  14]\n",
      " [  0   0   3 111]]\n",
      "\n",
      "Classification Report:\n",
      "              precision    recall  f1-score   support\n",
      "\n",
      "           0       0.99      0.89      0.94       139\n",
      "           1       0.83      0.89      0.86       117\n",
      "           2       0.88      0.85      0.86       130\n",
      "           3       0.89      0.97      0.93       114\n",
      "\n",
      "    accuracy                           0.90       500\n",
      "   macro avg       0.90      0.90      0.90       500\n",
      "weighted avg       0.90      0.90      0.90       500\n",
      "\n"
     ]
    }
   ],
   "source": [
    "from sklearn.neighbors import KNeighborsClassifier\n",
    "knn=KNeighborsClassifier(n_neighbors=8)\n",
    "\n",
    "knn.fit(x_train,y_train)\n",
    "\n",
    "y_test_pred1 = knn.predict(x_test)\n",
    "y_train_pred1=knn.predict(x_train)\n",
    "\n",
    "knn_acc=accuracy_score(y_test_pred1,y_test)\n",
    "\n",
    "print(\"Train Set Accuracy:\"+str(accuracy_score(y_train_pred1,y_train)*100))\n",
    "print(\"Test Set Accuracy:\"+str(accuracy_score(y_test_pred1,y_test)*100))\n",
    "print(\"\\nConfusion Matrix:\\n%s\"%confusion_matrix(y_test_pred1,y_test))\n",
    "print(\"\\nClassification Report:\\n%s\"%classification_report(y_test_pred1,y_test))"
   ]
  },
  {
   "cell_type": "markdown",
   "id": "hearing-palace",
   "metadata": {
    "id": "Xz8UMPMbWKjL",
    "papermill": {
     "duration": 0.09553,
     "end_time": "2022-07-29T17:52:25.785196",
     "exception": false,
     "start_time": "2022-07-29T17:52:25.689666",
     "status": "completed"
    },
    "tags": []
   },
   "source": [
    "**4.DecisionTreeClassifier**"
   ]
  },
  {
   "cell_type": "code",
   "execution_count": null,
   "id": "whole-gravity",
   "metadata": {
    "execution": {
     "iopub.execute_input": "2022-07-29T17:52:25.981956Z",
     "iopub.status.busy": "2022-07-29T17:52:25.981323Z",
     "iopub.status.idle": "2022-07-29T17:52:26.049344Z",
     "shell.execute_reply": "2022-07-29T17:52:26.049804Z",
     "shell.execute_reply.started": "2021-12-01T09:25:06.599854Z"
    },
    "id": "eDjt-sAMB8fh",
    "outputId": "7b70f737-b73c-4a79-87e8-464f53747a70",
    "papermill": {
     "duration": 0.168908,
     "end_time": "2022-07-29T17:52:26.049995",
     "exception": false,
     "start_time": "2022-07-29T17:52:25.881087",
     "status": "completed"
    },
    "tags": []
   },
   "outputs": [
    {
     "name": "stdout",
     "output_type": "stream",
     "text": [
      "Train Set Accuracy:100.0\n",
      "Test Set Accuracy:79.80000000000001\n",
      "\n",
      "Confusion Matrix:\n",
      "[[112  15   0   0]\n",
      " [ 13  93  21   1]\n",
      " [  0  17  84  14]\n",
      " [  0   0  20 110]]\n",
      "\n",
      "Classification Report:\n",
      "              precision    recall  f1-score   support\n",
      "\n",
      "           0       0.90      0.88      0.89       127\n",
      "           1       0.74      0.73      0.74       128\n",
      "           2       0.67      0.73      0.70       115\n",
      "           3       0.88      0.85      0.86       130\n",
      "\n",
      "    accuracy                           0.80       500\n",
      "   macro avg       0.80      0.80      0.80       500\n",
      "weighted avg       0.80      0.80      0.80       500\n",
      "\n"
     ]
    }
   ],
   "source": [
    "from sklearn.tree import DecisionTreeClassifier\n",
    "\n",
    "dtc = DecisionTreeClassifier()\n",
    "dtc.fit(x_train, y_train)\n",
    "\n",
    "y_test_pred3 = dtc.predict(x_test)\n",
    "y_train_pred3=dtc.predict(x_train)\n",
    "\n",
    "\n",
    "print(\"Train Set Accuracy:\"+str(accuracy_score(y_train_pred3,y_train)*100))\n",
    "print(\"Test Set Accuracy:\"+str(accuracy_score(y_test_pred3,y_test)*100))\n",
    "print(\"\\nConfusion Matrix:\\n%s\"%confusion_matrix(y_test_pred3,y_test))\n",
    "print(\"\\nClassification Report:\\n%s\"%classification_report(y_test_pred3,y_test))"
   ]
  },
  {
   "cell_type": "code",
   "execution_count": null,
   "id": "centered-access",
   "metadata": {
    "execution": {
     "iopub.execute_input": "2022-07-29T17:52:26.251710Z",
     "iopub.status.busy": "2022-07-29T17:52:26.251059Z",
     "iopub.status.idle": "2022-07-29T17:52:42.099284Z",
     "shell.execute_reply": "2022-07-29T17:52:42.099783Z",
     "shell.execute_reply.started": "2021-12-01T09:25:06.676052Z"
    },
    "papermill": {
     "duration": 15.953138,
     "end_time": "2022-07-29T17:52:42.099955",
     "exception": false,
     "start_time": "2022-07-29T17:52:26.146817",
     "status": "completed"
    },
    "tags": []
   },
   "outputs": [
    {
     "name": "stdout",
     "output_type": "stream",
     "text": [
      "Fitting 5 folds for each of 512 candidates, totalling 2560 fits\n"
     ]
    },
    {
     "data": {
      "text/plain": [
       "GridSearchCV(cv=5, estimator=DecisionTreeClassifier(), n_jobs=-1,\n",
       "             param_grid={'criterion': ['gini', 'entropy'],\n",
       "                         'max_depth': [3, 5, 7, 10],\n",
       "                         'min_samples_leaf': range(2, 10),\n",
       "                         'min_samples_split': range(2, 10)},\n",
       "             verbose=1)"
      ]
     },
     "execution_count": 34,
     "metadata": {},
     "output_type": "execute_result"
    }
   ],
   "source": [
    "# hyper parameter tuning\n",
    "\n",
    "grid_params = {\n",
    "    'criterion' : ['gini', 'entropy'],\n",
    "    'max_depth' : [3, 5, 7, 10],\n",
    "    'min_samples_split' : range(2, 10, 1),\n",
    "    'min_samples_leaf' : range(2, 10, 1)\n",
    "}\n",
    "\n",
    "grid_search = GridSearchCV(dtc, grid_params, cv = 5, n_jobs = -1, verbose = 1)\n",
    "grid_search.fit(x_train, y_train)"
   ]
  },
  {
   "cell_type": "code",
   "execution_count": null,
   "id": "surgical-material",
   "metadata": {
    "execution": {
     "iopub.execute_input": "2022-07-29T17:52:42.297946Z",
     "iopub.status.busy": "2022-07-29T17:52:42.295600Z",
     "iopub.status.idle": "2022-07-29T17:52:42.301876Z",
     "shell.execute_reply": "2022-07-29T17:52:42.301289Z",
     "shell.execute_reply.started": "2021-12-01T09:25:22.761477Z"
    },
    "papermill": {
     "duration": 0.10589,
     "end_time": "2022-07-29T17:52:42.302038",
     "exception": false,
     "start_time": "2022-07-29T17:52:42.196148",
     "status": "completed"
    },
    "tags": []
   },
   "outputs": [
    {
     "data": {
      "text/plain": [
       "{'criterion': 'gini',\n",
       " 'max_depth': 7,\n",
       " 'min_samples_leaf': 7,\n",
       " 'min_samples_split': 7}"
      ]
     },
     "execution_count": 35,
     "metadata": {},
     "output_type": "execute_result"
    }
   ],
   "source": [
    "\n",
    "grid_search.best_params_"
   ]
  },
  {
   "cell_type": "code",
   "execution_count": null,
   "id": "lined-leonard",
   "metadata": {
    "execution": {
     "iopub.execute_input": "2022-07-29T17:52:42.499837Z",
     "iopub.status.busy": "2022-07-29T17:52:42.499212Z",
     "iopub.status.idle": "2022-07-29T17:52:42.500966Z",
     "shell.execute_reply": "2022-07-29T17:52:42.501641Z",
     "shell.execute_reply.started": "2021-12-01T09:25:22.770666Z"
    },
    "papermill": {
     "duration": 0.103734,
     "end_time": "2022-07-29T17:52:42.501807",
     "exception": false,
     "start_time": "2022-07-29T17:52:42.398073",
     "status": "completed"
    },
    "tags": []
   },
   "outputs": [],
   "source": [
    "dtc = grid_search.best_estimator_"
   ]
  },
  {
   "cell_type": "code",
   "execution_count": null,
   "id": "polish-organization",
   "metadata": {
    "execution": {
     "iopub.execute_input": "2022-07-29T17:52:42.697853Z",
     "iopub.status.busy": "2022-07-29T17:52:42.697262Z",
     "iopub.status.idle": "2022-07-29T17:52:42.703052Z",
     "shell.execute_reply": "2022-07-29T17:52:42.703578Z",
     "shell.execute_reply.started": "2021-12-01T09:25:22.781692Z"
    },
    "papermill": {
     "duration": 0.105774,
     "end_time": "2022-07-29T17:52:42.703739",
     "exception": false,
     "start_time": "2022-07-29T17:52:42.597965",
     "status": "completed"
    },
    "tags": []
   },
   "outputs": [],
   "source": [
    "y_predi=dtc.predict(x_test)"
   ]
  },
  {
   "cell_type": "code",
   "execution_count": null,
   "id": "choice-retailer",
   "metadata": {
    "execution": {
     "iopub.execute_input": "2022-07-29T17:52:42.901735Z",
     "iopub.status.busy": "2022-07-29T17:52:42.901100Z",
     "iopub.status.idle": "2022-07-29T17:52:42.910634Z",
     "shell.execute_reply": "2022-07-29T17:52:42.911652Z",
     "shell.execute_reply.started": "2021-12-01T09:25:22.797003Z"
    },
    "papermill": {
     "duration": 0.111679,
     "end_time": "2022-07-29T17:52:42.911952",
     "exception": false,
     "start_time": "2022-07-29T17:52:42.800273",
     "status": "completed"
    },
    "tags": []
   },
   "outputs": [
    {
     "name": "stdout",
     "output_type": "stream",
     "text": [
      "Training Accuracy of SVC Model is 0.9253333333333333\n",
      "Test Accuracy of SVC Model is 0.836\n"
     ]
    }
   ],
   "source": [
    "dtc_train_acc = accuracy_score(y_train, dtc.predict(x_train))\n",
    "dtc_test_acc = accuracy_score(y_test, y_predi)\n",
    "\n",
    "print(f\"Training Accuracy of SVC Model is {dtc_train_acc}\")\n",
    "print(f\"Test Accuracy of SVC Model is {dtc_test_acc}\")"
   ]
  },
  {
   "cell_type": "markdown",
   "id": "rolled-spider",
   "metadata": {
    "id": "6wZhexyRWoCU",
    "papermill": {
     "duration": 0.099088,
     "end_time": "2022-07-29T17:52:43.110090",
     "exception": false,
     "start_time": "2022-07-29T17:52:43.011002",
     "status": "completed"
    },
    "tags": []
   },
   "source": [
    "**5.AdaBoostClassifier**"
   ]
  },
  {
   "cell_type": "code",
   "execution_count": null,
   "id": "approved-horse",
   "metadata": {
    "execution": {
     "iopub.execute_input": "2022-07-29T17:52:43.307204Z",
     "iopub.status.busy": "2022-07-29T17:52:43.306542Z",
     "iopub.status.idle": "2022-07-29T17:54:27.336134Z",
     "shell.execute_reply": "2022-07-29T17:54:27.336649Z",
     "shell.execute_reply.started": "2021-12-01T09:25:22.815293Z"
    },
    "id": "I5ridRU_CFv6",
    "outputId": "72b5135e-8422-4001-b8b7-d63226e2185e",
    "papermill": {
     "duration": 104.129453,
     "end_time": "2022-07-29T17:54:27.336831",
     "exception": false,
     "start_time": "2022-07-29T17:52:43.207378",
     "status": "completed"
    },
    "tags": []
   },
   "outputs": [
    {
     "name": "stdout",
     "output_type": "stream",
     "text": [
      "Fitting 5 folds for each of 60 candidates, totalling 300 fits\n"
     ]
    },
    {
     "data": {
      "text/plain": [
       "GridSearchCV(cv=5,\n",
       "             estimator=AdaBoostClassifier(base_estimator=DecisionTreeClassifier(max_depth=7,\n",
       "                                                                                min_samples_leaf=7,\n",
       "                                                                                min_samples_split=7)),\n",
       "             n_jobs=-1,\n",
       "             param_grid={'algorithm': ['SAMME', 'SAMME.R'],\n",
       "                         'learning_rate': [0.001, 0.01, 0.1, 1, 10],\n",
       "                         'n_estimators': [50, 70, 90, 120, 180, 200]},\n",
       "             verbose=1)"
      ]
     },
     "execution_count": 39,
     "metadata": {},
     "output_type": "execute_result"
    }
   ],
   "source": [
    "from sklearn.ensemble import AdaBoostClassifier\n",
    "from sklearn.model_selection import GridSearchCV\n",
    "\n",
    "ada = AdaBoostClassifier(base_estimator = dtc)\n",
    "\n",
    "parameters = {\n",
    "    'n_estimators' : [50, 70, 90, 120, 180, 200],\n",
    "    'learning_rate' : [0.001, 0.01, 0.1, 1, 10],\n",
    "    'algorithm' : ['SAMME', 'SAMME.R']\n",
    "}\n",
    "\n",
    "grid_search = GridSearchCV(ada, parameters, n_jobs = -1, cv = 5, verbose = 1)\n",
    "grid_search.fit(x_train, y_train)"
   ]
  },
  {
   "cell_type": "code",
   "execution_count": null,
   "id": "royal-parade",
   "metadata": {
    "execution": {
     "iopub.execute_input": "2022-07-29T17:54:27.542143Z",
     "iopub.status.busy": "2022-07-29T17:54:27.541453Z",
     "iopub.status.idle": "2022-07-29T17:54:27.545497Z",
     "shell.execute_reply": "2022-07-29T17:54:27.545948Z",
     "shell.execute_reply.started": "2021-12-01T09:27:06.473547Z"
    },
    "id": "aOUwMvERFjlN",
    "outputId": "a8fec183-2c89-49ef-9d18-5d233ae21fd6",
    "papermill": {
     "duration": 0.107641,
     "end_time": "2022-07-29T17:54:27.546139",
     "exception": false,
     "start_time": "2022-07-29T17:54:27.438498",
     "status": "completed"
    },
    "tags": []
   },
   "outputs": [
    {
     "data": {
      "text/plain": [
       "{'algorithm': 'SAMME', 'learning_rate': 1, 'n_estimators': 180}"
      ]
     },
     "execution_count": 40,
     "metadata": {},
     "output_type": "execute_result"
    }
   ],
   "source": [
    "grid_search.best_params_\n"
   ]
  },
  {
   "cell_type": "code",
   "execution_count": null,
   "id": "induced-passion",
   "metadata": {
    "execution": {
     "iopub.execute_input": "2022-07-29T17:54:27.744065Z",
     "iopub.status.busy": "2022-07-29T17:54:27.743409Z",
     "iopub.status.idle": "2022-07-29T17:54:27.747680Z",
     "shell.execute_reply": "2022-07-29T17:54:27.748280Z",
     "shell.execute_reply.started": "2021-12-01T09:27:06.481545Z"
    },
    "papermill": {
     "duration": 0.104726,
     "end_time": "2022-07-29T17:54:27.748457",
     "exception": false,
     "start_time": "2022-07-29T17:54:27.643731",
     "status": "completed"
    },
    "tags": []
   },
   "outputs": [
    {
     "data": {
      "text/plain": [
       "0.9193333333333333"
      ]
     },
     "execution_count": 41,
     "metadata": {},
     "output_type": "execute_result"
    }
   ],
   "source": [
    "grid_search.best_score_"
   ]
  },
  {
   "cell_type": "code",
   "execution_count": null,
   "id": "attempted-pencil",
   "metadata": {
    "execution": {
     "iopub.execute_input": "2022-07-29T17:54:27.948643Z",
     "iopub.status.busy": "2022-07-29T17:54:27.947996Z",
     "iopub.status.idle": "2022-07-29T17:54:29.977563Z",
     "shell.execute_reply": "2022-07-29T17:54:29.977052Z",
     "shell.execute_reply.started": "2021-12-01T09:27:06.495847Z"
    },
    "papermill": {
     "duration": 2.131184,
     "end_time": "2022-07-29T17:54:29.977706",
     "exception": false,
     "start_time": "2022-07-29T17:54:27.846522",
     "status": "completed"
    },
    "tags": []
   },
   "outputs": [
    {
     "data": {
      "text/plain": [
       "AdaBoostClassifier(algorithm='SAMME',\n",
       "                   base_estimator=DecisionTreeClassifier(max_depth=7,\n",
       "                                                         min_samples_leaf=7,\n",
       "                                                         min_samples_split=7),\n",
       "                   learning_rate=1, n_estimators=180)"
      ]
     },
     "execution_count": 42,
     "metadata": {},
     "output_type": "execute_result"
    }
   ],
   "source": [
    "ad = grid_search.best_estimator_\n",
    "ad.fit(x_train,y_train)"
   ]
  },
  {
   "cell_type": "code",
   "execution_count": null,
   "id": "posted-research",
   "metadata": {
    "execution": {
     "iopub.execute_input": "2022-07-29T17:54:30.178348Z",
     "iopub.status.busy": "2022-07-29T17:54:30.177691Z",
     "iopub.status.idle": "2022-07-29T17:54:30.214684Z",
     "shell.execute_reply": "2022-07-29T17:54:30.215188Z",
     "shell.execute_reply.started": "2021-12-01T09:27:08.562792Z"
    },
    "papermill": {
     "duration": 0.13852,
     "end_time": "2022-07-29T17:54:30.215372",
     "exception": false,
     "start_time": "2022-07-29T17:54:30.076852",
     "status": "completed"
    },
    "tags": []
   },
   "outputs": [],
   "source": [
    "y_pred = ad.predict(x_test)"
   ]
  },
  {
   "cell_type": "code",
   "execution_count": null,
   "id": "strange-sleeping",
   "metadata": {
    "execution": {
     "iopub.execute_input": "2022-07-29T17:54:30.414646Z",
     "iopub.status.busy": "2022-07-29T17:54:30.413991Z",
     "iopub.status.idle": "2022-07-29T17:54:30.474822Z",
     "shell.execute_reply": "2022-07-29T17:54:30.474186Z",
     "shell.execute_reply.started": "2021-12-01T09:27:08.6036Z"
    },
    "papermill": {
     "duration": 0.161367,
     "end_time": "2022-07-29T17:54:30.474961",
     "exception": false,
     "start_time": "2022-07-29T17:54:30.313594",
     "status": "completed"
    },
    "tags": []
   },
   "outputs": [
    {
     "name": "stdout",
     "output_type": "stream",
     "text": [
      "Training Accuracy of Random Forest Model is 1.0\n",
      "Test Accuracy of Random Forest Model is 0.916\n"
     ]
    }
   ],
   "source": [
    "ada_train_acc = accuracy_score(y_train, ad.predict(x_train))\n",
    "ada_test_acc = accuracy_score(y_test, y_pred)\n",
    "\n",
    "print(f\"Training Accuracy of Random Forest Model is {ada_train_acc}\")\n",
    "print(f\"Test Accuracy of Random Forest Model is {ada_test_acc}\")"
   ]
  },
  {
   "cell_type": "markdown",
   "id": "downtown-rolling",
   "metadata": {
    "papermill": {
     "duration": 0.098407,
     "end_time": "2022-07-29T17:54:30.672050",
     "exception": false,
     "start_time": "2022-07-29T17:54:30.573643",
     "status": "completed"
    },
    "tags": []
   },
   "source": [
    "**6.GradientBoostingClassifier**\n"
   ]
  },
  {
   "cell_type": "code",
   "execution_count": null,
   "id": "portuguese-headset",
   "metadata": {
    "execution": {
     "iopub.execute_input": "2022-07-29T17:54:30.879419Z",
     "iopub.status.busy": "2022-07-29T17:54:30.878730Z",
     "iopub.status.idle": "2022-07-29T17:54:32.950141Z",
     "shell.execute_reply": "2022-07-29T17:54:32.949600Z",
     "shell.execute_reply.started": "2021-12-01T09:27:08.670106Z"
    },
    "id": "7pCtksXaCgij",
    "outputId": "1b01ce85-04f3-4ef9-d002-cf2c520929d3",
    "papermill": {
     "duration": 2.1791,
     "end_time": "2022-07-29T17:54:32.950284",
     "exception": false,
     "start_time": "2022-07-29T17:54:30.771184",
     "status": "completed"
    },
    "tags": []
   },
   "outputs": [
    {
     "name": "stdout",
     "output_type": "stream",
     "text": [
      "Train Set Accuracy:100.0\n",
      "Test Set Accuracy:90.8\n",
      "\n",
      "Confusion Matrix:\n",
      "[[121   8   0   0]\n",
      " [  4 108  10   0]\n",
      " [  0   9 111  11]\n",
      " [  0   0   4 114]]\n",
      "\n",
      "Classification Report:\n",
      "              precision    recall  f1-score   support\n",
      "\n",
      "           0       0.97      0.94      0.95       129\n",
      "           1       0.86      0.89      0.87       122\n",
      "           2       0.89      0.85      0.87       131\n",
      "           3       0.91      0.97      0.94       118\n",
      "\n",
      "    accuracy                           0.91       500\n",
      "   macro avg       0.91      0.91      0.91       500\n",
      "weighted avg       0.91      0.91      0.91       500\n",
      "\n"
     ]
    }
   ],
   "source": [
    "from sklearn.ensemble import GradientBoostingClassifier\n",
    "\n",
    "gbc = GradientBoostingClassifier()\n",
    "gbc.fit(x_train, y_train)\n",
    "\n",
    "y_test_pred6 = gbc.predict(x_test)\n",
    "y_train_pred6=gbc.predict(x_train)\n",
    "\n",
    "gbc_acc=accuracy_score(y_test_pred6,y_test)\n",
    "\n",
    "print(\"Train Set Accuracy:\"+str(accuracy_score(y_train_pred6,y_train)*100))\n",
    "print(\"Test Set Accuracy:\"+str(accuracy_score(y_test_pred6,y_test)*100))\n",
    "print(\"\\nConfusion Matrix:\\n%s\"%confusion_matrix(y_test_pred6,y_test))\n",
    "print(\"\\nClassification Report:\\n%s\"%classification_report(y_test_pred6,y_test))"
   ]
  },
  {
   "cell_type": "markdown",
   "id": "unavailable-mattress",
   "metadata": {
    "id": "jj1YgRNPWvJq",
    "papermill": {
     "duration": 0.098944,
     "end_time": "2022-07-29T17:54:33.149203",
     "exception": false,
     "start_time": "2022-07-29T17:54:33.050259",
     "status": "completed"
    },
    "tags": []
   },
   "source": [
    "**7.XGBClassifier**"
   ]
  },
  {
   "cell_type": "code",
   "execution_count": null,
   "id": "awful-pavilion",
   "metadata": {
    "execution": {
     "iopub.execute_input": "2022-07-29T17:54:33.355367Z",
     "iopub.status.busy": "2022-07-29T17:54:33.354542Z",
     "iopub.status.idle": "2022-07-29T17:54:33.554399Z",
     "shell.execute_reply": "2022-07-29T17:54:33.555298Z",
     "shell.execute_reply.started": "2021-12-01T09:27:10.738615Z"
    },
    "id": "XA6JvXnuCSXm",
    "outputId": "77336fcb-b8aa-4317-e0ef-fd7bd791e601",
    "papermill": {
     "duration": 0.307323,
     "end_time": "2022-07-29T17:54:33.555509",
     "exception": false,
     "start_time": "2022-07-29T17:54:33.248186",
     "status": "completed"
    },
    "tags": []
   },
   "outputs": [
    {
     "name": "stdout",
     "output_type": "stream",
     "text": [
      "[17:54:33] WARNING: ../src/learner.cc:1095: Starting in XGBoost 1.3.0, the default evaluation metric used with the objective 'multi:softprob' was changed from 'merror' to 'mlogloss'. Explicitly set eval_metric if you'd like to restore the old behavior.\n",
      "Train Set Accuracy:93.06666666666666\n",
      "Test Set Accuracy:84.6\n",
      "\n",
      "Confusion Matrix:\n",
      "[[118  15   0   0]\n",
      " [  7 101  21   0]\n",
      " [  0   9  95  16]\n",
      " [  0   0   9 109]]\n",
      "\n",
      "Classification Report:\n",
      "              precision    recall  f1-score   support\n",
      "\n",
      "           0       0.94      0.89      0.91       133\n",
      "           1       0.81      0.78      0.80       129\n",
      "           2       0.76      0.79      0.78       120\n",
      "           3       0.87      0.92      0.90       118\n",
      "\n",
      "    accuracy                           0.85       500\n",
      "   macro avg       0.85      0.85      0.85       500\n",
      "weighted avg       0.85      0.85      0.85       500\n",
      "\n"
     ]
    }
   ],
   "source": [
    "from xgboost import XGBClassifier\n",
    "\n",
    "xgb = XGBClassifier(booster = 'gbtree', learning_rate = 0.1, max_depth = 5, n_estimators = 10,gamma=5)\n",
    "xgb.fit(x_train, y_train)\n",
    "\n",
    "y_test_pred7 = xgb.predict(x_test)\n",
    "y_train_pred7=xgb.predict(x_train)\n",
    "\n",
    "xgb_acc= accuracy_score(y_test_pred7,y_test)\n",
    "\n",
    "print(\"Train Set Accuracy:\"+str(accuracy_score(y_train_pred7,y_train)*100))\n",
    "print(\"Test Set Accuracy:\"+str(accuracy_score(y_test_pred7,y_test)*100))\n",
    "print(\"\\nConfusion Matrix:\\n%s\"%confusion_matrix(y_test_pred7,y_test))\n",
    "print(\"\\nClassification Report:\\n%s\"%classification_report(y_test_pred7,y_test))"
   ]
  },
  {
   "cell_type": "markdown",
   "id": "considerable-savannah",
   "metadata": {
    "papermill": {
     "duration": 0.099987,
     "end_time": "2022-07-29T17:54:34.391868",
     "exception": false,
     "start_time": "2022-07-29T17:54:34.291881",
     "status": "completed"
    },
    "tags": []
   },
   "source": [
    "***SVC Classifier got the highest accuracy.***\n",
    "\n"
   ]
  }
 ],
 "metadata": {
  "kernelspec": {
   "display_name": "Python 3",
   "language": "python",
   "name": "python3"
  },
  "language_info": {
   "codemirror_mode": {
    "name": "ipython",
    "version": 3
   },
   "file_extension": ".py",
   "mimetype": "text/x-python",
   "name": "python",
   "nbconvert_exporter": "python",
   "pygments_lexer": "ipython3",
   "version": "3.11.4"
  },
  "papermill": {
   "default_parameters": {},
   "duration": 157.932127,
   "end_time": "2022-07-29T17:54:35.934787",
   "environment_variables": {},
   "exception": null,
   "input_path": "__notebook__.ipynb",
   "output_path": "__notebook__.ipynb",
   "parameters": {},
   "start_time": "2022-07-29T17:51:58.002660",
   "version": "2.3.3"
  }
 },
 "nbformat": 4,
 "nbformat_minor": 5
}
